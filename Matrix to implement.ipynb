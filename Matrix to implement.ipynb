{
 "cells": [
  {
   "cell_type": "code",
   "execution_count": 38,
   "id": "0f2a964f",
   "metadata": {},
   "outputs": [],
   "source": [
    "import numpy as np\n",
    "from scipy.linalg import block_diag"
   ]
  },
  {
   "cell_type": "code",
   "execution_count": 65,
   "id": "8d497b1c",
   "metadata": {},
   "outputs": [],
   "source": [
    "#example 2: Vicsek fractal Hamiltonian (VFH) matrix)\n",
    "\n",
    "\n",
    "K=4 #the number of fractal iterations we want to use to define our matrix \n",
    "\n",
    "H=np.diag(-2*np.ones(5))\n",
    "H[0]=np.ones(5)\n",
    "H[:,0]=np.ones(5)\n",
    "H[0,0]=-4\n",
    "\n",
    "p_11=3\n",
    "p_21=2\n",
    "p_31=5\n",
    "p_41=4\n",
    "\n",
    "p_1k_1=p_11\n",
    "p_2k_1=p_21\n",
    "p_3k_1=p_31\n",
    "p_4k_1=p_41\n",
    "\n",
    "if K<=0:\n",
    "    raise ValueError('k has to be strictly positive')\n",
    "\n",
    "for k in range(2,K+1):\n",
    "    #we define H_i depending on H_{i-1}\n",
    "    #we already defined H_1 before the loop\n",
    "    size=H.shape[0]\n",
    "    \n",
    "    if k>2:\n",
    "        p_1k=5**(k-2)*(p_11-1)+p_1k_1\n",
    "        p_2k=5**(k-2)*(p_21-1)+p_2k_1\n",
    "        p_3k=5**(k-2)*(p_31-1)+p_3k_1\n",
    "        p_4k=5**(k-2)*(p_41-1)+p_4k_1\n",
    "    else:\n",
    "        p_1k=p_11\n",
    "        p_2k=p_21\n",
    "        p_3k=p_31\n",
    "        p_4k=p_41\n",
    "    \n",
    "    #putting -1 in the index to compensate for the indexing going from 0 to size-1 in numpy\n",
    "    V_1=np.zeros((size, size))\n",
    "    V_1[p_1k-1,p_2k-1]=1\n",
    "    V_2=np.zeros((size, size))\n",
    "    V_2[p_2k-1, p_1k-1]=1\n",
    "    V_3=np.zeros((size, size))\n",
    "    V_3[p_3k-1, p_4k-1]=1\n",
    "    V_4=np.zeros((size, size))\n",
    "    V_4[p_4k-1, p_3k-1]=1\n",
    "    \n",
    "    p_1k_1=p_1k\n",
    "    p_2k_1=p_2k\n",
    "    p_3k_1=p_3k\n",
    "    p_4k_1=p_4k\n",
    "    \n",
    "    #Since we have a lot of block matrices, easier to explicitely complete it\n",
    "    H_k=block_diag(*([H] * 5))\n",
    "    H_k[size:2*size, 0:size]=V_1.T\n",
    "    H_k[2*size:3*size, 0:size]=V_2.T\n",
    "    H_k[3*size:4*size, 0:size]=V_3.T\n",
    "    H_k[4*size:5*size, 0:size]=V_4.T\n",
    "    H_k[0:size, size:2*size]=V_1\n",
    "    H_k[0:size, 2*size:3*size]=V_2\n",
    "    H_k[0:size, 3*size:4*size]=V_3\n",
    "    H_k[0:size, 4*size:5*size]=V_4\n",
    "    \n",
    "    H=H_k"
   ]
  },
  {
   "cell_type": "code",
   "execution_count": 7,
   "id": "8becf157",
   "metadata": {},
   "outputs": [],
   "source": [
    "#example 3: the poisson matrix\n",
    "\n",
    "k=2\n",
    "\n",
    "I_k=np.eye(k)\n",
    "\n",
    "T=np.diag(2*np.ones(k))+np.diag(-1*np.ones(k-1), -1) + np.diag(-1*np.ones(k-1), 1)\n",
    "\n",
    "Poisson_matrix=np.kron(T,I_k)+np.kron(I_k, T)\n",
    "\n",
    "#ref: https://www.uio.no/studier/emner/matnat/ifi/nedlagte-emner/INF-MAT3350/h07/undervisningsmateriale/chap9slides.pdf"
   ]
  },
  {
   "cell_type": "code",
   "execution_count": 8,
   "id": "ef745f62",
   "metadata": {},
   "outputs": [
    {
     "data": {
      "text/plain": [
       "array([[ 4., -1., -1., -0.],\n",
       "       [-1.,  4., -0., -1.],\n",
       "       [-1., -0.,  4., -1.],\n",
       "       [-0., -1., -1.,  4.]])"
      ]
     },
     "execution_count": 8,
     "metadata": {},
     "output_type": "execute_result"
    }
   ],
   "source": [
    "Poisson_matrix"
   ]
  },
  {
   "cell_type": "code",
   "execution_count": null,
   "id": "16ca159c",
   "metadata": {},
   "outputs": [],
   "source": [
    "#the Wathen matrix"
   ]
  },
  {
   "cell_type": "code",
   "execution_count": null,
   "id": "3eccea06",
   "metadata": {},
   "outputs": [],
   "source": [
    "#the Lehmer matrix\n",
    "\n",
    "#easy to implement with a for loop but not optimal, is there a better way? Couldn't find built in ways on internet"
   ]
  },
  {
   "cell_type": "code",
   "execution_count": null,
   "id": "9b1849f1",
   "metadata": {},
   "outputs": [],
   "source": []
  }
 ],
 "metadata": {
  "kernelspec": {
   "display_name": "Python 3 (ipykernel)",
   "language": "python",
   "name": "python3"
  },
  "language_info": {
   "codemirror_mode": {
    "name": "ipython",
    "version": 3
   },
   "file_extension": ".py",
   "mimetype": "text/x-python",
   "name": "python",
   "nbconvert_exporter": "python",
   "pygments_lexer": "ipython3",
   "version": "3.8.13"
  }
 },
 "nbformat": 4,
 "nbformat_minor": 5
}
