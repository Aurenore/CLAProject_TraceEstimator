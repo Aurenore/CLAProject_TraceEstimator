{
 "cells": [
  {
   "attachments": {},
   "cell_type": "markdown",
   "metadata": {},
   "source": [
    "# Test sparse matrix\n",
    "algo 1"
   ]
  },
  {
   "cell_type": "code",
   "execution_count": 100,
   "metadata": {},
   "outputs": [],
   "source": [
    "import numpy as np\n",
    "from helpers import Gerschgorin, check_ortho, check_new_eig\n",
    "from warnings import warn\n",
    "from scipy import sparse\n",
    "import scipy"
   ]
  },
  {
   "cell_type": "code",
   "execution_count": 101,
   "metadata": {},
   "outputs": [],
   "source": [
    "def Pei_function(alpha, n):\n",
    "    '''\n",
    "    input:  alpha: a scalar\n",
    "            n: an integer\n",
    "    output: the Pei matrix with dimension n x n\n",
    "    '''\n",
    "    ones = np.ones((n, n))\n",
    "    Pei_matrix=alpha*sparse.eye(n)+sparse.csr_matrix(ones, (n,n))\n",
    "    return Pei_matrix\n"
   ]
  },
  {
   "cell_type": "code",
   "execution_count": 102,
   "metadata": {},
   "outputs": [
    {
     "name": "stdout",
     "output_type": "stream",
     "text": [
      "[[6. 1. 1. 1.]\n",
      " [1. 6. 1. 1.]\n",
      " [1. 1. 6. 1.]\n",
      " [1. 1. 1. 6.]]\n"
     ]
    }
   ],
   "source": [
    "a = 1e-3\n",
    "gamma = 3\n",
    "A=Pei_function(alpha=5, n=4)\n",
    "\n",
    "print(A.toarray())"
   ]
  },
  {
   "cell_type": "code",
   "execution_count": 103,
   "metadata": {},
   "outputs": [],
   "source": [
    "def T_tilda(T, gamma, a):\n",
    "    \"\"\"\n",
    "    Implements the correction mentioned in Remark 3. \n",
    "    INPUT:\n",
    "    - T: T_j\n",
    "    - gamma: gamma_j\n",
    "    - a: scalar, a or b\n",
    "    OUTPUT:\n",
    "    - T_tilda_j: matrix as defined page 76 of Bai et al., for the Gauss-Radau case.\n",
    "    \"\"\"\n",
    "    print(\"T.shape:\", T.shape)\n",
    "    e_j = np.zeros((T.shape[0],1))\n",
    "    e_j[-1,:] = 1\n",
    "    e_j = sparse.csr_array(e_j)\n",
    "    print(\"e_j.shape:\", e_j.shape)\n",
    "    delta = sparse.linalg.spsolve(T-a*sparse.eye(T.shape[0]), gamma*gamma*e_j) # tridiagonal system, could be written without np.linalg.solve maybe\n",
    "    phi = a + delta[-1]\n",
    "    temp_left = sparse.vstack([T, gamma*e_j.T])\n",
    "    var = sparse.vstack([gamma*e_j, phi])\n",
    "    print(\"var.shape:\", var.shape)\n",
    "    temp_right = sparse.csr_matrix(var)\n",
    "    print(\"temp_right.shape:\", temp_right.shape)\n",
    "    return sparse.hstack([temp_left, temp_right])"
   ]
  },
  {
   "cell_type": "code",
   "execution_count": 112,
   "metadata": {},
   "outputs": [
    {
     "name": "stdout",
     "output_type": "stream",
     "text": [
      "T.shape: (4, 4)\n",
      "e_j.shape: (4, 1)\n",
      "var.shape: (5, 1)\n",
      "temp_right.shape: (5, 1)\n",
      "A=\n",
      " [[6. 1. 1. 1.]\n",
      " [1. 6. 1. 1.]\n",
      " [1. 1. 6. 1.]\n",
      " [1. 1. 1. 6.]]\n",
      "A_tilda=\n",
      " [[6.         1.         1.         1.         0.        ]\n",
      " [1.         6.         1.         1.         0.        ]\n",
      " [1.         1.         6.         1.         0.        ]\n",
      " [1.         1.         1.         6.         3.        ]\n",
      " [0.         0.         0.         3.         1.60129783]]\n",
      "is a a new eigenvalue of T_tilda_j: True\n"
     ]
    }
   ],
   "source": [
    "# test T_tilda function: a should become an eigenvalue of T_tilda_j.\n",
    "a = 1e-3\n",
    "gamma = 3\n",
    "A=Pei_function(alpha=5, n=4)\n",
    "\n",
    "T_tilda_j = T_tilda(A, gamma, a)\n",
    "print(\"A=\\n\", A.toarray())\n",
    "print(\"A_tilda=\\n\", T_tilda_j.toarray())\n",
    "\n",
    "\n",
    "eigs = scipy.linalg.eig(T_tilda_j.toarray())\n",
    "print(\"is a a new eigenvalue of T_tilda_j:\", check_new_eig(a, np.sort(eigs[0])))"
   ]
  },
  {
   "cell_type": "code",
   "execution_count": 99,
   "metadata": {},
   "outputs": [],
   "source": [
    "def algorithm_1(A, u, function, maxit=50, epsilon=1e-5):\n",
    "    # to do: save T_j as sparse\n",
    "    '''\n",
    "    Implements algorithm 1 from Bai et al. It computes a lower/upper bound of the quantity u^T f(A) u by using the Gauss-Radau rules\n",
    "    INPUT:\n",
    "    - A: a symmetric positive definite matrix of size n times n for some n, with eigenvalues in [a,b]\n",
    "    - u: vector of size n \n",
    "    - f: smooth function in the interval [a,b]\n",
    "    - maxit: maximum number of iteration\n",
    "    - epsilon: tolerance between two iterations\n",
    "    \n",
    "    OUTPUT:\n",
    "    - [U,L]: Upper and Lower bound of the quantity u^T f(A) u by using the Gauss-Radau rule.\n",
    "    '''\n",
    "    # Remark 1: compute a and b \n",
    "    interval = Gerschgorin(A)\n",
    "\n",
    "    if interval[0]<=0:\n",
    "        interval[0] = 1e-4\n",
    "    #print(\"a=\", interval[0])  Armelle: I've put these two as comments\n",
    "    #print(\"b=\", interval[1])\n",
    "    if (np.linalg.eigvals(A)<=0).any():\n",
    "        warn(\"The matrix A should be positive definite.\")\n",
    "        print(\"eigenvalues of A:\", np.linalg.eigvals(A))\n",
    "    if not (A==A.T).all():\n",
    "        warn(\"A is not symmetric. Please choose A such that A=A.T\")\n",
    "        print(\"A =\",A)\n",
    "\n",
    "    # set the first variables\n",
    "    x_j1 = u/np.linalg.norm(u)    \n",
    "    gamma_j1 = 0.0\n",
    "    I_j = np.zeros(2)\n",
    "    I_j1 = np.zeros(2)\n",
    "\n",
    "    # stopping criteria for I_j^U and I_j^L\n",
    "    above_thresh_mask = np.array([True, True]) \n",
    "    indices = np.arange(2)\n",
    "\n",
    "    # Save X as a matrix (for re-orthogonalization)\n",
    "    n=len(u) \n",
    "    X=np.zeros((n, maxit+1))\n",
    "    X[:,0] = x_j1\n",
    "\n",
    "    # iteration\n",
    "    for j in range(maxit):\n",
    "        w = A@X[:,j]\n",
    "        alpha_j=X[:,j].T@w\n",
    "        r_j = w - alpha_j*X[:,j]\n",
    "        if j>0:\n",
    "            r_j = r_j - gamma_j1*X[:,j-1]\n",
    "        \n",
    "        #reorthogonlization to avoid roundoff error encured by Lanczos\n",
    "        alphas=X.T@r_j\n",
    "        r_j=r_j-X@alphas\n",
    "        alpha_j=alpha_j+alphas[-1]\n",
    "        gamma_j = np.linalg.norm(r_j)\n",
    "\n",
    "        # build T_j:\n",
    "        if j==0:\n",
    "            T_j = np.array([alpha_j])\n",
    "        else:\n",
    "            # horizontal array [0, ..., 0, gamma_{j-1}]\n",
    "            temp_h = np.expand_dims(np.zeros(T_j.shape[0]),1)\n",
    "            temp_h[-1] = gamma_j1\n",
    "            # vertical array [0, ..., 0, gamma_{j-1}, alpha_j].T\n",
    "            temp_v = np.expand_dims(np.zeros(T_j.shape[0] + 1),1)\n",
    "            temp_v[-1] = alpha_j\n",
    "            temp_v[-2] = gamma_j1\n",
    "            # new T_j:\n",
    "            T_j = np.hstack((np.vstack((T_j, temp_h.T)), temp_v))\n",
    "        \n",
    "        # for Gauss Radau, a or b have to be zeros of the polynomial, i.e. must be eigenvalues of T_tilda_{j'}:\n",
    "        for i in indices[above_thresh_mask]: # for lower and upper bounds\n",
    "            T_tilda_j = T_tilda(T_j, gamma_j, interval[i])\n",
    "            \n",
    "            # compute eigenvalues of T_tilda_j:            \n",
    "            theta_k, eig_vec = np.linalg.eigh(T_tilda_j)\n",
    "            w_k_square = eig_vec[0, :]*eig_vec[0,:]\n",
    "            I_j[i] = function(theta_k).dot(w_k_square)\n",
    "\n",
    "            # stopping criterion\n",
    "            if (j>0) & (np.abs(I_j[i] - I_j1[i]) <= epsilon*np.abs(I_j[i])):\n",
    "                above_thresh_mask[i] = False\n",
    "                \n",
    "        # check stopping criterion  \n",
    "        if not above_thresh_mask.any(): #when both are false: break.\n",
    "            break\n",
    "        \n",
    "        x_j1 = r_j/gamma_j\n",
    "        X[:,j+1]=x_j1.copy()\n",
    "        I_j1 = I_j.copy()\n",
    "        gamma_j1 = gamma_j.copy()\n",
    "        \n",
    "        if not check_ortho(X[:,0:j+1]):\n",
    "            warn(\"The algorithm does not build an orthonormal basis, at j =\"+str(j))\n",
    "\n",
    "    return u.dot(u)*I_j   "
   ]
  },
  {
   "cell_type": "code",
   "execution_count": null,
   "metadata": {},
   "outputs": [],
   "source": []
  }
 ],
 "metadata": {
  "kernelspec": {
   "display_name": "adaexam",
   "language": "python",
   "name": "python3"
  },
  "language_info": {
   "codemirror_mode": {
    "name": "ipython",
    "version": 3
   },
   "file_extension": ".py",
   "mimetype": "text/x-python",
   "name": "python",
   "nbconvert_exporter": "python",
   "pygments_lexer": "ipython3",
   "version": "3.9.7"
  },
  "orig_nbformat": 4
 },
 "nbformat": 4,
 "nbformat_minor": 2
}
