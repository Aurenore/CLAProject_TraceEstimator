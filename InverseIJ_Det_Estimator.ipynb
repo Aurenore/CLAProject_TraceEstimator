{
 "cells": [
  {
   "attachments": {},
   "cell_type": "markdown",
   "metadata": {},
   "source": [
    "# Numerical Examples \n",
    "https://doi.org/10.1016/0377-0427(96)00018-0 \n",
    "## Bounds on Det(A)\n",
    "If $f(\\lambda) = ln(\\lambda)$, then the problem of estimating $det(A)$ is reduced to bound the trace of the matrix natural logarithm function $ln(A)$, i.e. $\\sum_{i=1}^n (ln(A))_{ii}$."
   ]
  },
  {
   "cell_type": "code",
   "execution_count": 1,
   "metadata": {},
   "outputs": [],
   "source": [
    "import numpy as np \n",
    "import matplotlib.pyplot as plt\n",
    "#for part e)\n",
    "from matrices import * \n",
    "import time \n",
    "from scipy.linalg import block_diag\n",
    "from helpers import *\n",
    "#to save the results in a pickle file\n",
    "import os \n",
    "import pickle\n",
    "import pandas as pd"
   ]
  },
  {
   "cell_type": "code",
   "execution_count": 4,
   "metadata": {},
   "outputs": [
    {
     "name": "stdout",
     "output_type": "stream",
     "text": [
      "n= 144\n",
      "bounds [U,L]= (192.85474547646004, 150.69069847639008, 171.77272197642506)\n",
      "exact value of trace of the log 173.49955861871655 found estimated value: 171.77272197642506 difference in two norm 1.726836642291488\n",
      "L<I_ex: True\n",
      "U>I_ex: True\n",
      "L<U = True\n"
     ]
    }
   ],
   "source": [
    "#the Poisson matrix\n",
    "k=12\n",
    "A= Poisson_function(k=k)\n",
    "n=k**2\n",
    "print(\"n=\",n)\n",
    "def f(x):\n",
    "    return np.log(x)\n",
    "tol = 1e-5\n",
    "L = algorithm_2(A=A, m=50, p=0.9, function=f, epsilon=tol)\n",
    "\n",
    "print(\"bounds [U,L]=\", L)\n",
    "\n",
    "I_ex=np.log(np.linalg.det(A))\n",
    "\n",
    "print(\"exact value of trace of the log\", I_ex, 'found estimated value:', L[2], 'difference in two norm', np.linalg.norm(I_ex-L[2]))\n",
    "\n",
    "# check \n",
    "print(\"L<I_ex:\", L[1]<I_ex )\n",
    "print(\"U>I_ex:\", L[0]>I_ex )\n",
    "print(\"L<U =\", L[1]<L[0] )"
   ]
  },
  {
   "cell_type": "code",
   "execution_count": 5,
   "metadata": {},
   "outputs": [
    {
     "name": "stdout",
     "output_type": "stream",
     "text": [
      "bounds [U,L]= (218.72130889806277, 174.38926600700768, 196.5552874525352)\n",
      "exact value of trace of the inverse: 196.3514253169602 found estimated value: 196.5552874525352 difference in two norm 0.2038621355750081\n",
      "L<I_ex: True\n",
      "U>I_ex: True\n",
      "L<U = True\n"
     ]
    }
   ],
   "source": [
    "#the Pei matrix\n",
    "n=120\n",
    "A=Pei_function(alpha=5, n=n)\n",
    "L = algorithm_2(A=A, m=50, p=0.9, function=f, epsilon=tol)\n",
    "\n",
    "print(\"bounds [U,L]=\", L)\n",
    "I_ex=np.log(np.linalg.det(A))\n",
    "\n",
    "print(\"exact value of trace of the inverse:\", I_ex, 'found estimated value:', L[2], 'difference in two norm', np.linalg.norm(I_ex-L[2]))\n",
    "\n",
    "# check \n",
    "print(\"L<I_ex:\", L[1]<I_ex )\n",
    "print(\"U>I_ex:\", L[0]>I_ex )\n",
    "print(\"L<U =\", L[1]<L[0] )"
   ]
  },
  {
   "cell_type": "code",
   "execution_count": null,
   "metadata": {},
   "outputs": [],
   "source": []
  }
 ],
 "metadata": {
  "kernelspec": {
   "display_name": "Python 3 (ipykernel)",
   "language": "python",
   "name": "python3"
  },
  "language_info": {
   "codemirror_mode": {
    "name": "ipython",
    "version": 3
   },
   "file_extension": ".py",
   "mimetype": "text/x-python",
   "name": "python",
   "nbconvert_exporter": "python",
   "pygments_lexer": "ipython3",
   "version": "3.9.13"
  }
 },
 "nbformat": 4,
 "nbformat_minor": 2
}
