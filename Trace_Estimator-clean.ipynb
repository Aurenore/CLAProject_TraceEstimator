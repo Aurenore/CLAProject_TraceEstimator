{
 "cells": [
  {
   "cell_type": "markdown",
   "metadata": {},
   "source": [
    "# Trace Estimator  \n",
    "https://doi.org/10.1016/0377-0427(96)00018-0 \n",
    "## b) Algorithm 1 with Gauss-Radau quadrature"
   ]
  },
  {
   "cell_type": "code",
   "execution_count": 1,
   "metadata": {},
   "outputs": [],
   "source": [
    "import numpy as np \n",
    "import matplotlib.pyplot as plt\n",
    "#for part e)\n",
    "from matrices import * \n",
    "import time \n",
    "from scipy.linalg import block_diag\n",
    "from helpers import *\n",
    "#to save the results in a pickle file\n",
    "import os \n",
    "import pickle\n",
    "import pandas as pd"
   ]
  },
  {
   "cell_type": "code",
   "execution_count": null,
   "metadata": {},
   "outputs": [],
   "source": [
    "#the Poisson matrix\n",
    "k=12\n",
    "A= Poisson_function(k=k)\n",
    "n=k**2\n",
    "print(\"n=\",n)\n",
    "u = np.zeros(n)\n",
    "u[4] = 1\n",
    "u = np.random.randn(n)\n",
    "def f(x):\n",
    "    return 1/x\n",
    "    \n",
    "tol = 1e-5\n",
    "L = algorithm_1(A=A, u=u, function=f, maxit=200, epsilon=tol)\n",
    "\n",
    "print(\"bounds [U,L]=\", L)\n",
    "\n",
    "# exact value of u^T f(A) u:\n",
    "I_ex = u.dot(np.linalg.inv(A).dot(u))\n",
    "#I_ex = u.dot((A)@u)\n",
    "print(\"exact value:\", I_ex)\n",
    "\n",
    "# check \n",
    "print(\"L<I_ex:\", L[1]<I_ex )\n",
    "print(\"U>I_ex:\", L[0]>I_ex )\n",
    "print(\"L<U =\", L[1]<L[0] )"
   ]
  },
  {
   "cell_type": "code",
   "execution_count": null,
   "metadata": {},
   "outputs": [],
   "source": [
    "#the Pei matrix\n",
    "n=120\n",
    "A=Pei_function(alpha=5, n=n)\n",
    "def f(x):\n",
    "    return 1/x\n",
    "#notice that in python Z=1/A outputs Z[i,j]=1/A[i,j] which isn't what we want but! With the way our algorithm is define\n",
    "#and the way it makes computations it doesn't matter\n",
    "\n",
    "\n",
    "u = np.zeros(n)\n",
    "u[1] = 1\n",
    "#u = np.random.randn(n)\n",
    "tol = 1e-3\n",
    "L = algorithm_1(A=A, u=u, function=f, maxit=200, epsilon=tol)\n",
    "\n",
    "print(\"bounds [U,L]=\", L)\n",
    "\n",
    "# exact value of u^T f(A) u:\n",
    "I_ex = u.dot(np.linalg.inv(A).dot(u))\n",
    "#I_ex = u.dot((A)@u)\n",
    "print(\"exact value:\", I_ex)\n",
    "\n",
    "# check \n",
    "print(\"L<I_ex:\", L[1]<I_ex )\n",
    "print(\"U>I_ex:\", L[0]>I_ex )\n",
    "print(\"L<U =\", L[1]<L[0] )"
   ]
  },
  {
   "cell_type": "code",
   "execution_count": null,
   "metadata": {},
   "outputs": [],
   "source": [
    "n = 5\n",
    "def tridiag(a, b, c, k1=-1, k2=0, k3=1):\n",
    "    return np.diag(a, k1) + np.diag(b, k2) + np.diag(c, k3)\n",
    "\n",
    "vec1 = -1*np.ones(n-1)\n",
    "vec2 = 2*np.ones(n)\n",
    "vec3 = -1*np.ones(n-1)\n",
    "A = tridiag(vec1, vec2, vec3)\n",
    "\n",
    "u = np.zeros(n)\n",
    "u[1] = 1\n",
    "# u = np.random.randn(n)\n",
    "tol = 1e-2\n",
    "L = algorithm_1(A=A, u=u, function=f, maxit=200, epsilon=tol)\n",
    "\n",
    "print(\"bounds [L, U]=\", L)\n",
    "\n",
    "# exact value of u^T f(A) u:\n",
    "I_ex = u.dot(np.linalg.inv(A).dot(u))\n",
    "#I_ex = u.dot((A)@u)\n",
    "print(\"exact value:\", I_ex)\n",
    "\n",
    "# check \n",
    "print(\"L<I_ex:\", L[1]<I_ex )\n",
    "print(\"U>I_ex:\", L[0]>I_ex )\n",
    "print(\"L<U =\", L[1]<L[0] )"
   ]
  },
  {
   "cell_type": "markdown",
   "metadata": {},
   "source": [
    "## d) Algorithm 2 "
   ]
  },
  {
   "cell_type": "code",
   "execution_count": null,
   "metadata": {},
   "outputs": [],
   "source": [
    "#the Poisson matrix\n",
    "k=12\n",
    "A= Poisson_function(k=k)\n",
    "n=k**2\n",
    "print(\"n=\",n)\n",
    "def f(x):\n",
    "    return 1/x\n",
    "tol = 1e-5\n",
    "L = algorithm_2(A=A, m=50, p=0.9, function=f, epsilon=tol)\n",
    "\n",
    "print(\"bounds [U,L]=\", L)\n",
    "\n",
    "I_ex=np.trace(np.linalg.inv(A))\n",
    "\n",
    "print(\"exact value of trace of the inverse:\", I_ex, 'found estimated value:', L[2], 'difference in two norm', np.linalg.norm(I_ex-L[2]))\n",
    "\n",
    "# check \n",
    "print(\"L<I_ex:\", L[1]<I_ex )\n",
    "print(\"U>I_ex:\", L[0]>I_ex )\n",
    "print(\"L<U =\", L[1]<L[0] )"
   ]
  },
  {
   "cell_type": "code",
   "execution_count": null,
   "metadata": {},
   "outputs": [],
   "source": [
    "#the Pei matrix\n",
    "n=120\n",
    "A=Pei_function(alpha=5, n=n)\n",
    "\n",
    "def f(x):\n",
    "    return 1/x\n",
    "tol = 1e-5\n",
    "L = algorithm_2(A=A, m=50, p=0.9, function=f, epsilon=tol)\n",
    "\n",
    "print(\"bounds [U,L]=\", L)\n",
    "\n",
    "I_ex=np.trace(np.linalg.inv(A))\n",
    "\n",
    "print(\"exact value of trace of the inverse:\", I_ex, 'found estimated value:', L[2], 'difference in two norm', np.linalg.norm(I_ex-L[2]))\n",
    "\n",
    "# check \n",
    "print(\"L<I_ex:\", L[1]<I_ex )\n",
    "print(\"U>I_ex:\", L[0]>I_ex )\n",
    "print(\"L<U =\", L[1]<L[0] )"
   ]
  },
  {
   "cell_type": "markdown",
   "metadata": {},
   "source": [
    "## e) Numerical experiments | need to be run for different accuracies (that's what is asked)\n",
    "so that's what I did, there's not much difference between the different accuracies, maybe when increasing matrix size we'll see a change"
   ]
  },
  {
   "cell_type": "code",
   "execution_count": null,
   "metadata": {},
   "outputs": [],
   "source": [
    "#--- I have set all the sizes so that they are our matrices final sizes. I have chosen st they are same as in the paper and\n",
    "#if in the paper was paper the biggest size below that that fit in memory\n",
    "\n",
    "#defining all the matrices at once\n",
    "\n",
    "#heat_flow_matrix \n",
    "N=30 #hence has final size 900 as in the paper\n",
    "nu=0.2 \n",
    "heat_flow_matrix=heat_flow_function(nu,N)\n",
    "\n",
    "# VFH matrix\n",
    "A=-VFH_function(4) #hence has size 625 as in the paper\n",
    "\n",
    "#Poisson matrix\n",
    "poisson_matrix=Poisson_function(30) #hence has size 900 as in the paper\n",
    "\n",
    "#Wathen matrix\n",
    "nx=12\n",
    "ny=12 #as in the paper\n",
    "wathen_matrix=wathen_ge(nx, ny)\n",
    "    \n",
    "#Lehmer matrix\n",
    "lehmer_matrix=Lehmer_function(200) #as in the paper\n",
    "\n",
    "#Pei matrix\n",
    "alpha=1\n",
    "n=300 #as in the paper\n",
    "pei_matrix=Pei_function(alpha, n)"
   ]
  },
  {
   "cell_type": "code",
   "execution_count": null,
   "metadata": {},
   "outputs": [],
   "source": [
    "#saved as pickle as csv didn't work\n",
    "def get_pickle_file(tol=1e-5):\n",
    "\n",
    "    path_to_file=\"numerical_experiment_\"+str(tol)+\".pk\" #the pickle file of the result for a given tolerance tol\n",
    "\n",
    "    if (os.path.exists(path_to_file)):\n",
    "        print('exists') #print 'exists' if the csv with all values of the function 'running' have already been computed\n",
    "        df = pd.read_pickle(path_to_file)\n",
    "        #to complete\n",
    "        running_time_array = df['running_time'].tolist()\n",
    "        computed_value_array = df['computed_value'].tolist()\n",
    "        \n",
    "    else:\n",
    "        print('no_exist')#print 'no_exist' if 'running' had to be run. Takes ?? min to complete.\n",
    "        matrix_array=[heat_flow_matrix, VFH_matrix, poisson_matrix, wathen_matrix, lehmer_matrix, pei_matrix]\n",
    "        matrix_names=['heat_flow_matrix', 'VFH_matrix', 'poisson_matrix', 'wathen_matrix', 'lehmer_matrix', 'pei_matrix']\n",
    "    \n",
    "        running_time_array=[]\n",
    "        computed_value_array=[]\n",
    "    \n",
    "        for i in range(len(matrix_array)):\n",
    "            array_1, array_2=numerical_experiments(matrix_array[i], tol)\n",
    "            running_time_array.append(array_1)\n",
    "            computed_value_array.append(array_2)\n",
    "    \n",
    "    #saving as a csv\n",
    "    \n",
    "        dict = {'running_time': running_time_array, 'computed_value': computed_value_array}\n",
    "        df = pd.DataFrame(dict)\n",
    "        # saving the dataframe to save future computation time\n",
    "        df.to_pickle(path_to_file)\n",
    "    return running_time_array, computed_value_array"
   ]
  },
  {
   "cell_type": "markdown",
   "metadata": {},
   "source": [
    "### For tolerance=1e-8"
   ]
  },
  {
   "cell_type": "code",
   "execution_count": null,
   "metadata": {},
   "outputs": [],
   "source": [
    "#matrix_array=[heat_flow_matrix, VFH_matrix, poisson_matrix, wathen_matrix, lehmer_matrix, pei_matrix]\n",
    "matrix_names=['heat_flow_matrix', 'VFH_matrix', 'poisson_matrix', 'wathen_matrix', 'lehmer_matrix', 'pei_matrix']\n",
    "\n",
    "running_time_array, computed_value_array=get_pickle_file(1e-8)\n",
    "\n",
    "L=len(running_time_array)\n",
    "\n",
    "fig, axs=plt.subplots(L,2, figsize= (20,25), sharey = False, sharex = False) #unfortunately, can't do sharex and share y as \n",
    "#the scale of the computed values fuck everything up also I don't think it would be very relevant to compare the \n",
    "#execution time matrice wise as they all are different, have different size etc...\n",
    "\n",
    "\n",
    "for j in range(L):\n",
    "    axs[j][0].bar(['algo_2', 'built_in_numpy', 'linear systems', 'algorithm_1'], running_time_array[j])\n",
    "    #we'll see if we keep the plotting in logscale\n",
    "    axs[j][0].set_yscale('log')\n",
    "    axs[j][0].set_title('running time differences for '+ matrix_names[j], fontsize=12)\n",
    "    \n",
    "    axs[j][1].bar(['algo_2', 'built_in_numpy', 'linear systems', 'algorithm_1'], computed_value_array[j])\n",
    "    #we'll see if we keep the plotting in logscale\n",
    "    axs[j][1].set_yscale('log')\n",
    "    axs[j][1].set_title('computed value differences for '+ matrix_names[j], fontsize=12)"
   ]
  },
  {
   "cell_type": "markdown",
   "metadata": {},
   "source": [
    "### For tolerance=1e-5"
   ]
  },
  {
   "cell_type": "code",
   "execution_count": null,
   "metadata": {},
   "outputs": [],
   "source": [
    "matrix_names=['heat_flow_matrix', 'VFH_matrix', 'poisson_matrix', 'wathen_matrix', 'lehmer_matrix', 'pei_matrix']\n",
    "\n",
    "running_time_array, computed_value_array=get_pickle_file(1e-5)\n",
    "\n",
    "L=len(running_time_array)\n",
    "\n",
    "fig, axs=plt.subplots(L,2, figsize= (20,25), sharey = False, sharex = False) #unfortunately, can't do sharex and share y as \n",
    "#the scale of the computed values fuck everything up also I don't think it would be very relevant to compare the \n",
    "#execution time matrice wise as they all are different, have different size etc...\n",
    "\n",
    "\n",
    "for j in range(L):\n",
    "    axs[j][0].bar(['algo_2', 'built_in_numpy', 'linear systems', 'algorithm_1'], running_time_array[j])\n",
    "    #we'll see if we keep the plotting in logscale\n",
    "    axs[j][0].set_yscale('log')\n",
    "    axs[j][0].set_title('running time differences for '+ matrix_names[j], fontsize=12)\n",
    "    \n",
    "    axs[j][1].bar(['algo_2', 'built_in_numpy', 'linear systems', 'algorithm_1'], computed_value_array[j])\n",
    "    #we'll see if we keep the plotting in logscale\n",
    "    axs[j][1].set_yscale('log')\n",
    "    axs[j][1].set_title('computed value differences for '+ matrix_names[j], fontsize=12)"
   ]
  },
  {
   "cell_type": "markdown",
   "metadata": {},
   "source": [
    "### For tolerance=1e-1"
   ]
  },
  {
   "cell_type": "code",
   "execution_count": null,
   "metadata": {},
   "outputs": [],
   "source": [
    "matrix_names=['heat_flow_matrix', 'VFH_matrix', 'poisson_matrix', 'wathen_matrix', 'lehmer_matrix', 'pei_matrix']\n",
    "\n",
    "running_time_array, computed_value_array=get_pickle_file(1e-1)\n",
    "\n",
    "L=len(running_time_array)\n",
    "\n",
    "fig, axs=plt.subplots(L,2, figsize= (20,25), sharey = False, sharex = False) #unfortunately, can't do sharex and share y as \n",
    "#the scale of the computed values fuck everything up also I don't think it would be very relevant to compare the \n",
    "#execution time matrice wise as they all are different, have different size etc...\n",
    "\n",
    "\n",
    "for j in range(L):\n",
    "    axs[j][0].bar(['algo_2', 'built_in_numpy', 'linear systems', 'algorithm_1'], running_time_array[j])\n",
    "    #we'll see if we keep the plotting in logscale\n",
    "    axs[j][0].set_yscale('log')\n",
    "    axs[j][0].set_title('running time differences for '+ matrix_names[j], fontsize=12)\n",
    "    \n",
    "    axs[j][1].bar(['algo_2', 'built_in_numpy', 'linear systems', 'algorithm_1'], computed_value_array[j])\n",
    "    #we'll see if we keep the plotting in logscale\n",
    "    axs[j][1].set_yscale('log')\n",
    "    axs[j][1].set_title('computed value differences for '+ matrix_names[j], fontsize=12)"
   ]
  },
  {
   "cell_type": "code",
   "execution_count": null,
   "metadata": {},
   "outputs": [],
   "source": []
  }
 ],
 "metadata": {
  "kernelspec": {
   "display_name": "Python 3 (ipykernel)",
   "language": "python",
   "name": "python3"
  },
  "language_info": {
   "codemirror_mode": {
    "name": "ipython",
    "version": 3
   },
   "file_extension": ".py",
   "mimetype": "text/x-python",
   "name": "python",
   "nbconvert_exporter": "python",
   "pygments_lexer": "ipython3",
   "version": "3.8.13"
  }
 },
 "nbformat": 4,
 "nbformat_minor": 2
}
