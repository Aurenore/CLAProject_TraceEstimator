{
 "cells": [
  {
   "attachments": {},
   "cell_type": "markdown",
   "metadata": {},
   "source": [
    "# Trace Estimator  \n",
    "https://doi.org/10.1016/0377-0427(96)00018-0 \n",
    "## b) Algorithm 1 with Gauss-Radau quadrature"
   ]
  },
  {
   "cell_type": "code",
   "execution_count": 1,
   "metadata": {},
   "outputs": [],
   "source": [
    "import numpy as np \n",
    "import matplotlib.pyplot as plt\n",
    "#for part e)\n",
    "from matrices import heat_flow_function, Pei_function, VFH_function, Poisson_function, wathen_ge, Lehmer_function \n",
    "import time \n",
    "from scipy.linalg import block_diag\n",
    "from helpers import *"
   ]
  },
  {
   "cell_type": "code",
   "execution_count": 2,
   "metadata": {},
   "outputs": [
    {
     "name": "stdout",
     "output_type": "stream",
     "text": [
      "n= 144\n",
      "a= 0.0001\n",
      "b= 8.0\n",
      "bounds [U,L]= [56.58868925 56.58837986]\n",
      "exact value: 56.58856142906353\n",
      "L<I_ex: True\n",
      "U>I_ex: True\n",
      "L<U = True\n"
     ]
    }
   ],
   "source": [
    "#the Poisson matrix\n",
    "k=12\n",
    "A= Poisson_function(k=k)\n",
    "n=k**2\n",
    "print(\"n=\",n)\n",
    "u = np.zeros(n)\n",
    "u[4] = 1\n",
    "u = np.random.randn(n)\n",
    "def f(x):\n",
    "    return 1/x\n",
    "tol = 1e-5\n",
    "L = algorithm_1(A=A, u=u, function=f, maxit=200, epsilon=tol)\n",
    "\n",
    "print(\"bounds [U,L]=\", L)\n",
    "\n",
    "# exact value of u^T f(A) u:\n",
    "I_ex = u.dot(np.linalg.inv(A).dot(u))\n",
    "#I_ex = u.dot((A)@u)\n",
    "print(\"exact value:\", I_ex)\n",
    "\n",
    "# check \n",
    "print(\"L<I_ex:\", L[1]<I_ex )\n",
    "print(\"U>I_ex:\", L[0]>I_ex )\n",
    "print(\"L<U =\", L[1]<L[0] )"
   ]
  },
  {
   "cell_type": "code",
   "execution_count": 3,
   "metadata": {},
   "outputs": [
    {
     "name": "stdout",
     "output_type": "stream",
     "text": [
      "a= 0.0001\n",
      "b= 125.0\n",
      "bounds [U,L]= [0.1984 0.1984]\n",
      "exact value: 0.19840000000000016\n",
      "L<I_ex: True\n",
      "U>I_ex: False\n",
      "L<U = False\n"
     ]
    }
   ],
   "source": [
    "#the Pei matrix\n",
    "n=120\n",
    "A=Pei_function(alpha=5, n=n)\n",
    "def f(x):\n",
    "    return 1/x\n",
    "u = np.zeros(n)\n",
    "u[1] = 1\n",
    "#u = np.random.randn(n)\n",
    "tol = 1e-3\n",
    "L = algorithm_1(A=A, u=u, function=f, maxit=200, epsilon=tol)\n",
    "\n",
    "print(\"bounds [U,L]=\", L)\n",
    "\n",
    "# exact value of u^T f(A) u:\n",
    "I_ex = u.dot(np.linalg.inv(A).dot(u))\n",
    "#I_ex = u.dot((A)@u)\n",
    "print(\"exact value:\", I_ex)\n",
    "\n",
    "# check \n",
    "print(\"L<I_ex:\", L[1]<I_ex )\n",
    "print(\"U>I_ex:\", L[0]>I_ex )\n",
    "print(\"L<U =\", L[1]<L[0] )"
   ]
  },
  {
   "cell_type": "code",
   "execution_count": 4,
   "metadata": {},
   "outputs": [
    {
     "name": "stdout",
     "output_type": "stream",
     "text": [
      "a= 0.0001\n",
      "b= 4.0\n",
      "bounds [L, U]= [1.33333333 1.33333333]\n",
      "exact value: 1.333333333333333\n",
      "L<I_ex: False\n",
      "U>I_ex: True\n",
      "L<U = False\n"
     ]
    }
   ],
   "source": [
    "n = 5\n",
    "def tridiag(a, b, c, k1=-1, k2=0, k3=1):\n",
    "    return np.diag(a, k1) + np.diag(b, k2) + np.diag(c, k3)\n",
    "\n",
    "vec1 = -1*np.ones(n-1)\n",
    "vec2 = 2*np.ones(n)\n",
    "vec3 = -1*np.ones(n-1)\n",
    "A = tridiag(vec1, vec2, vec3)\n",
    "\n",
    "u = np.zeros(n)\n",
    "u[1] = 1\n",
    "# u = np.random.randn(n)\n",
    "tol = 1e-2\n",
    "L = algorithm_1(A=A, u=u, function=f, maxit=200, epsilon=tol)\n",
    "\n",
    "print(\"bounds [L, U]=\", L)\n",
    "\n",
    "# exact value of u^T f(A) u:\n",
    "I_ex = u.dot(np.linalg.inv(A).dot(u))\n",
    "#I_ex = u.dot((A)@u)\n",
    "print(\"exact value:\", I_ex)\n",
    "\n",
    "# check \n",
    "print(\"L<I_ex:\", L[1]<I_ex )\n",
    "print(\"U>I_ex:\", L[0]>I_ex )\n",
    "print(\"L<U =\", L[1]<L[0] )"
   ]
  },
  {
   "attachments": {},
   "cell_type": "markdown",
   "metadata": {},
   "source": [
    "### e) Numerical experiments (first draft)"
   ]
  },
  {
   "cell_type": "code",
   "execution_count": 6,
   "metadata": {},
   "outputs": [],
   "source": [
    "import time \n",
    "import numpy as np\n",
    "from scipy.linalg import block_diag"
   ]
  },
  {
   "cell_type": "code",
   "execution_count": 7,
   "metadata": {},
   "outputs": [],
   "source": [
    "#cell to be rewritten, temporary assignement to A\n",
    "A=np.eye(3,3) "
   ]
  },
  {
   "attachments": {},
   "cell_type": "markdown",
   "metadata": {},
   "source": [
    "**The different matrices they experimented on in the paper:**"
   ]
  },
  {
   "cell_type": "code",
   "execution_count": 8,
   "metadata": {},
   "outputs": [],
   "source": [
    "#example 1: the heat flow matrix"
   ]
  },
  {
   "cell_type": "code",
   "execution_count": 2,
   "metadata": {},
   "outputs": [
    {
     "data": {
      "text/plain": [
       "array([[13., -3., -3.,  0.],\n",
       "       [-3., 13.,  0., -3.],\n",
       "       [-3.,  0., 13., -3.],\n",
       "       [ 0., -3., -3., 13.]])"
      ]
     },
     "execution_count": 2,
     "metadata": {},
     "output_type": "execute_result"
    }
   ],
   "source": [
    "n=2\n",
    "nu=3 #some random values for now, nu>0 implies heat_flow_matrix is positive definite which is something we want\n",
    "heat_flow_matrix=heat_flow_function(nu,n)\n",
    "heat_flow_matrix"
   ]
  },
  {
   "cell_type": "code",
   "execution_count": 17,
   "metadata": {},
   "outputs": [
    {
     "name": "stdout",
     "output_type": "stream",
     "text": [
      "a = 0.0001\n",
      "b = 6.0\n",
      "Tolerance 1e-13 was reached at iteration 2\n",
      "L= 0.16153600220772452\n",
      "U= 0.16153600220772452\n",
      "exact value: 0.19887453815178047\n",
      "is the exact value between L and U: False\n"
     ]
    }
   ],
   "source": [
    "#the Pei matrix\n",
    "alpha=2\n",
    "n=4\n",
    "Pei_matrix=Pei_function(alpha, n)\n",
    "\n",
    "u = np.random.rand(n)\n",
    "U, L = algorithm_1(A=Pei_matrix, u=u, function=f, maxit=200, epsilon=tol)\n",
    "print(\"L=\", L)\n",
    "print(\"U=\", U)\n",
    "\n",
    "# exact value of u^T f(A) u:\n",
    "I_ex = u.dot(np.linalg.inv(Pei_matrix)@u)\n",
    "#I_ex = u.dot((A)@u)\n",
    "print(\"exact value:\", I_ex)\n",
    "\n",
    "# check \n",
    "print(\"is the exact value between L and U:\", I_ex<U and L<I_ex)"
   ]
  },
  {
   "cell_type": "code",
   "execution_count": null,
   "metadata": {},
   "outputs": [],
   "source": [
    "#running time of algo 2\n",
    "\n",
    "start=time.time()\n",
    "E,L,U=algorithm_2(A,m,p) #for some m,p to tune \n",
    "execution_algo_2=time.time()-start "
   ]
  },
  {
   "cell_type": "code",
   "execution_count": 4,
   "metadata": {},
   "outputs": [
    {
     "name": "stdout",
     "output_type": "stream",
     "text": [
      "execution time 0.0012359619140625\n"
     ]
    }
   ],
   "source": [
    "#running time using built in numpy functions\n",
    "A=heat_flow_matrix\n",
    "start=time.time()\n",
    "Tr_A_inv=np.trace(np.linalg.inv(A))\n",
    "execution_built_in=time.time()-start \n",
    "print('execution time', execution_built_in)"
   ]
  },
  {
   "cell_type": "code",
   "execution_count": 6,
   "metadata": {},
   "outputs": [
    {
     "name": "stdout",
     "output_type": "stream",
     "text": [
      "execution time 0.03495073318481445\n"
     ]
    }
   ],
   "source": [
    "#solving n linear equations\n",
    "\n",
    "#(Armelle: in my opinion, when they say compute trace(inv(A)) using n linear equations, they mean computing \n",
    "#e_i.T inv(A) e_i for i in {1,...,n} )\n",
    "\n",
    "start=time.time()\n",
    "n=A.shape[0]\n",
    "\n",
    "trace=0\n",
    "for i in range(n):\n",
    "    e=np.zeros(n)\n",
    "    e[i]=1\n",
    "    trace+=e.T@np.linalg.inv(A)@e\n",
    "execution_linear_equations=time.time()-start \n",
    "\n",
    "print('execution time', execution_linear_equations)"
   ]
  },
  {
   "cell_type": "code",
   "execution_count": null,
   "metadata": {},
   "outputs": [],
   "source": [
    "#using algorithm 1\n",
    "\n",
    "n=A.shape[0]\n",
    "start=time.time()\n",
    "trace=0\n",
    "for i in range (n):\n",
    "    trace+= #output of algo 1 (I guess here also parameter values to tune)\n",
    "execution_algo_1=time.time()-start "
   ]
  }
 ],
 "metadata": {
  "kernelspec": {
   "display_name": "Python 3 (ipykernel)",
   "language": "python",
   "name": "python3"
  },
  "language_info": {
   "codemirror_mode": {
    "name": "ipython",
    "version": 3
   },
   "file_extension": ".py",
   "mimetype": "text/x-python",
   "name": "python",
   "nbconvert_exporter": "python",
   "pygments_lexer": "ipython3",
   "version": "3.9.7"
  }
 },
 "nbformat": 4,
 "nbformat_minor": 2
}
