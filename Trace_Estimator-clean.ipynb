{
 "cells": [
  {
   "attachments": {},
   "cell_type": "markdown",
   "metadata": {},
   "source": [
    "# Trace Estimator  \n",
    "https://doi.org/10.1016/0377-0427(96)00018-0 \n",
    "## b) Algorithm 1 with Gauss-Radau quadrature"
   ]
  },
  {
   "cell_type": "code",
   "execution_count": 1,
   "metadata": {},
   "outputs": [],
   "source": [
    "import numpy as np \n",
    "import matplotlib.pyplot as plt\n",
    "from warnings import warn\n",
    "#for part e)\n",
    "from matrices import heat_flow_function, Pei_function, VFH_function, Poisson_function, wathen_ge, Lehmer_function \n",
    "import time \n",
    "from scipy.linalg import block_diag\n",
    "from helpers import *"
   ]
  },
  {
   "cell_type": "code",
   "execution_count": 14,
   "metadata": {},
   "outputs": [],
   "source": [
    "def algorithm_1(A, u, function, maxit=50, epsilon=1e-5):\n",
    "    '''\n",
    "    Implements algorithm 1 from Bai et al. It computes a lower/upper bound of the quantity u^T f(A) u by using the Gauss-Radau rules\n",
    "    INPUT:\n",
    "    - A: a symmetric positive definite matrix of size n times n for some n, with eigenvalues in [a,b]\n",
    "    - u: vector of size n \n",
    "    - f: smooth function in the interval [a,b]\n",
    "    - maxit: maximum number of iteration\n",
    "    - epsilon: tolerance between two iterations\n",
    "    \n",
    "    OUTPUT:\n",
    "    - [U,L]: Upper and Lower bound of the quantity u^T f(A) u by using the Gauss-Radau rule.\n",
    "    '''\n",
    "    # Remark 1:\n",
    "    interval = Gerschgorin(A)\n",
    "\n",
    "    if interval[0]<=0:\n",
    "        interval[0] = 1e-4\n",
    "    print(\"a=\", interval[0])\n",
    "    print(\"b=\", interval[1])\n",
    "    if (np.linalg.eigvals(A)<=0).any():\n",
    "        warn(\"The matrix A should be positive definite.\")\n",
    "        print(\"eigenvalues of A:\", np.linalg.eigvals(A))\n",
    "    if not (A==A.T).all():\n",
    "        warn(\"A is not symmetric. Please choose A such that A=A.T\")\n",
    "        print(\"A =\",A)\n",
    "\n",
    "    # set the first variables\n",
    "    x_j1 = u/np.linalg.norm(u)    \n",
    "    gamma_j1 = 0.0\n",
    "    I_j = np.zeros(2)\n",
    "    I_j1 = np.zeros(2)\n",
    "\n",
    "    # Save X as a matrix (for re-orthogonalization)\n",
    "    n=len(u) \n",
    "    X=np.zeros((n, maxit+1))\n",
    "    X[:,0] = x_j1\n",
    "\n",
    "    for j in range(maxit):\n",
    "        w = A@X[:,j]\n",
    "        alpha_j=X[:,j].T@w\n",
    "        r_j = w - alpha_j*X[:,j]\n",
    "        if j>0:\n",
    "            r_j = r_j - gamma_j1*X[:,j-1]\n",
    "        \n",
    "        #reorthogonlization to avoid roundoff error encured by Lanczos\n",
    "        alphas=X.T@r_j\n",
    "        r_j=r_j-X@alphas\n",
    "        alpha_j=alpha_j+alphas[-1]\n",
    "        gamma_j = np.linalg.norm(r_j)\n",
    "\n",
    "        # build T_j:\n",
    "        if j==0:\n",
    "            T_j = np.array([alpha_j])\n",
    "        else:\n",
    "            # horizontal array [0, ..., 0, gamma_{j-1}]\n",
    "            temp_h = np.expand_dims(np.zeros(T_j.shape[0]),1)\n",
    "            temp_h[-1] = gamma_j1\n",
    "            # vertical array [0, ..., 0, gamma_{j-1}, alpha_j].T\n",
    "            temp_v = np.expand_dims(np.zeros(T_j.shape[0] + 1),1)\n",
    "            temp_v[-1] = alpha_j\n",
    "            temp_v[-2] = gamma_j1\n",
    "            # new T_j:\n",
    "            T_j = np.hstack((np.vstack((T_j, temp_h.T)), temp_v))\n",
    "        \n",
    "        # for Gauss Radau, a or b have to be zeros of the polynomial, i.e. must be eigenvalues of T_tilda_{j'}:\n",
    "        for i in range(2): # for lower and upper bounds\n",
    "            T_tilda_j = T_tilda(T_j, gamma_j, interval[i])\n",
    "            \n",
    "\n",
    "            # compute eigenvalues of T_tilda_j:            \n",
    "            theta_k, eig_vec = np.linalg.eigh(T_tilda_j)\n",
    "            w_k_square = eig_vec[0, :]*eig_vec[0,:]\n",
    "            I_j[i] = function(theta_k).dot(w_k_square)\n",
    "                \n",
    "        print(\"at j=\", j,\", I_j=\", I_j)\n",
    "        \n",
    "        if (j>0) & (np.linalg.norm(I_j - I_j1) <= epsilon*np.linalg.norm(I_j)):\n",
    "            break\n",
    "        \n",
    "        x_j1 = r_j/gamma_j\n",
    "        X[:,j+1]=x_j1.copy()\n",
    "        I_j1 = I_j.copy()\n",
    "        gamma_j1 = gamma_j.copy()\n",
    "        \n",
    "        if not check_ortho(X[:,0:j+1]):\n",
    "            warn(\"The algorithm does not build an orthonormal basis, at j =\"+str(j))\n",
    "    return u.dot(u)*I_j   "
   ]
  },
  {
   "cell_type": "code",
   "execution_count": 15,
   "metadata": {},
   "outputs": [
    {
     "name": "stdout",
     "output_type": "stream",
     "text": [
      "n= 144\n",
      "a= 0.0001\n",
      "b= 8.0\n",
      "at j= 0 , I_j= [1.69622947e+03 2.61663844e-01]\n",
      "at j= 1 , I_j= [5.55469422e+02 3.05670856e-01]\n",
      "at j= 2 , I_j= [246.28161313   0.32952317]\n",
      "at j= 3 , I_j= [117.93950865   0.34189629]\n",
      "at j= 4 , I_j= [58.54176922  0.34809938]\n",
      "at j= 5 , I_j= [32.49310945  0.35170053]\n",
      "at j= 6 , I_j= [19.01129181  0.35398122]\n",
      "at j= 7 , I_j= [10.78564133  0.35527944]\n",
      "at j= 8 , I_j= [6.413047   0.35605811]\n",
      "at j= 9 , I_j= [3.7471052 0.3564779]\n",
      "at j= 10 , I_j= [2.22785702 0.35669129]\n",
      "at j= 11 , I_j= [1.61114896 0.35688984]\n",
      "at j= 12 , I_j= [1.22604849 0.35704215]\n",
      "at j= 13 , I_j= [0.95096225 0.35714449]\n",
      "at j= 14 , I_j= [0.80386572 0.35723666]\n",
      "at j= 15 , I_j= [0.6905155  0.35730499]\n",
      "at j= 16 , I_j= [0.58032184 0.3573429 ]\n",
      "at j= 17 , I_j= [0.48587283 0.3573606 ]\n",
      "at j= 18 , I_j= [0.43090949 0.35737067]\n",
      "at j= 19 , I_j= [0.39606578 0.35737554]\n",
      "bounds [U,L]= [60.99403514 55.03574805]\n",
      "exact value: 55.036147646378254\n",
      "L<I_ex: True\n",
      "U>I_ex: True\n",
      "L<U = True\n"
     ]
    }
   ],
   "source": [
    "#the Poisson matrix\n",
    "k=12\n",
    "A= Poisson_function(k=k)\n",
    "n=k**2\n",
    "print(\"n=\",n)\n",
    "u = np.zeros(n)\n",
    "u[4] = 1\n",
    "u = np.random.randn(n)\n",
    "def f(x):\n",
    "    return 1/x\n",
    "tol = 1e-5\n",
    "L = algorithm_1(A=A, u=u, function=f, maxit=20, epsilon=tol)\n",
    "\n",
    "print(\"bounds [U,L]=\", L)\n",
    "\n",
    "# exact value of u^T f(A) u:\n",
    "I_ex = u.dot(np.linalg.inv(A).dot(u))\n",
    "#I_ex = u.dot((A)@u)\n",
    "print(\"exact value:\", I_ex)\n",
    "\n",
    "# check \n",
    "print(\"L<I_ex:\", L[1]<I_ex )\n",
    "print(\"U>I_ex:\", L[0]>I_ex )\n",
    "print(\"L<U =\", L[1]<L[0] )"
   ]
  },
  {
   "cell_type": "code",
   "execution_count": 16,
   "metadata": {},
   "outputs": [
    {
     "name": "stdout",
     "output_type": "stream",
     "text": [
      "a= 0.0001\n",
      "b= 125.0\n",
      "at j= 0 , I_j= [7.67748778e+03 1.98400000e-01]\n",
      "at j= 1 , I_j= [0.1984 0.1984]\n",
      "at j= 2 , I_j= [0.1984 0.1984]\n",
      "bounds [U,L]= [0.1984 0.1984]\n",
      "exact value: 0.19840000000000016\n",
      "L<I_ex: True\n",
      "U>I_ex: False\n",
      "L<U = True\n"
     ]
    }
   ],
   "source": [
    "#the Pei matrix\n",
    "n=120\n",
    "A=Pei_function(alpha=5, n=n)\n",
    "def f(x):\n",
    "    return 1/x\n",
    "u = np.zeros(n)\n",
    "u[1] = 1\n",
    "#u = np.random.randn(n)\n",
    "tol = 1e-3\n",
    "L = algorithm_1(A=A, u=u, function=f, maxit=200, epsilon=tol)\n",
    "\n",
    "print(\"bounds [U,L]=\", L)\n",
    "\n",
    "# exact value of u^T f(A) u:\n",
    "I_ex = u.dot(np.linalg.inv(A).dot(u))\n",
    "#I_ex = u.dot((A)@u)\n",
    "print(\"exact value:\", I_ex)\n",
    "\n",
    "# check \n",
    "print(\"L<I_ex:\", L[1]<I_ex )\n",
    "print(\"U>I_ex:\", L[0]>I_ex )\n",
    "print(\"L<U =\", L[1]<L[0] )"
   ]
  },
  {
   "cell_type": "code",
   "execution_count": 17,
   "metadata": {},
   "outputs": [
    {
     "name": "stdout",
     "output_type": "stream",
     "text": [
      "a= 0.0001\n",
      "b= 4.0\n",
      "at j= 0 , I_j= [3.33377778e+03 7.50000000e-01]\n",
      "at j= 1 , I_j= [1.42946938e+03 1.08333333e+00]\n",
      "at j= 2 , I_j= [770.31951694   1.25      ]\n",
      "at j= 3 , I_j= [1.33333333 1.33333333]\n",
      "at j= 4 , I_j= [1.33333333 1.33333333]\n",
      "bounds [L, U]= [1.33333333 1.33333333]\n",
      "exact value: 1.333333333333333\n",
      "L<I_ex: False\n",
      "U>I_ex: True\n",
      "L<U = False\n"
     ]
    }
   ],
   "source": [
    "n = 5\n",
    "def tridiag(a, b, c, k1=-1, k2=0, k3=1):\n",
    "    return np.diag(a, k1) + np.diag(b, k2) + np.diag(c, k3)\n",
    "\n",
    "vec1 = -1*np.ones(n-1)\n",
    "vec2 = 2*np.ones(n)\n",
    "vec3 = -1*np.ones(n-1)\n",
    "A = tridiag(vec1, vec2, vec3)\n",
    "\n",
    "u = np.zeros(n)\n",
    "u[1] = 1\n",
    "# u = np.random.randn(n)\n",
    "tol = 1e-2\n",
    "L = algorithm_1(A=A, u=u, function=f, maxit=200, epsilon=tol)\n",
    "\n",
    "print(\"bounds [L, U]=\", L)\n",
    "\n",
    "# exact value of u^T f(A) u:\n",
    "I_ex = u.dot(np.linalg.inv(A).dot(u))\n",
    "#I_ex = u.dot((A)@u)\n",
    "print(\"exact value:\", I_ex)\n",
    "\n",
    "# check \n",
    "print(\"L<I_ex:\", L[1]<I_ex )\n",
    "print(\"U>I_ex:\", L[0]>I_ex )\n",
    "print(\"L<U =\", L[1]<L[0] )"
   ]
  },
  {
   "attachments": {},
   "cell_type": "markdown",
   "metadata": {},
   "source": [
    "### e) Numerical experiments (first draft)"
   ]
  },
  {
   "cell_type": "code",
   "execution_count": 6,
   "metadata": {},
   "outputs": [],
   "source": [
    "import time \n",
    "import numpy as np\n",
    "from scipy.linalg import block_diag"
   ]
  },
  {
   "cell_type": "code",
   "execution_count": 7,
   "metadata": {},
   "outputs": [],
   "source": [
    "#cell to be rewritten, temporary assignement to A\n",
    "A=np.eye(3,3) "
   ]
  },
  {
   "attachments": {},
   "cell_type": "markdown",
   "metadata": {},
   "source": [
    "**The different matrices they experimented on in the paper:**"
   ]
  },
  {
   "cell_type": "code",
   "execution_count": 8,
   "metadata": {},
   "outputs": [],
   "source": [
    "#example 1: the heat flow matrix"
   ]
  },
  {
   "cell_type": "code",
   "execution_count": 2,
   "metadata": {},
   "outputs": [
    {
     "data": {
      "text/plain": [
       "array([[13., -3., -3.,  0.],\n",
       "       [-3., 13.,  0., -3.],\n",
       "       [-3.,  0., 13., -3.],\n",
       "       [ 0., -3., -3., 13.]])"
      ]
     },
     "execution_count": 2,
     "metadata": {},
     "output_type": "execute_result"
    }
   ],
   "source": [
    "n=2\n",
    "nu=3 #some random values for now, nu>0 implies heat_flow_matrix is positive definite which is something we want\n",
    "heat_flow_matrix=heat_flow_function(nu,n)\n",
    "heat_flow_matrix"
   ]
  },
  {
   "cell_type": "code",
   "execution_count": 17,
   "metadata": {},
   "outputs": [
    {
     "name": "stdout",
     "output_type": "stream",
     "text": [
      "a = 0.0001\n",
      "b = 6.0\n",
      "Tolerance 1e-13 was reached at iteration 2\n",
      "L= 0.16153600220772452\n",
      "U= 0.16153600220772452\n",
      "exact value: 0.19887453815178047\n",
      "is the exact value between L and U: False\n"
     ]
    }
   ],
   "source": [
    "#the Pei matrix\n",
    "alpha=2\n",
    "n=4\n",
    "Pei_matrix=Pei_function(alpha, n)\n",
    "\n",
    "u = np.random.rand(n)\n",
    "U, L = algorithm_1(A=Pei_matrix, u=u, function=f, maxit=200, epsilon=tol)\n",
    "print(\"L=\", L)\n",
    "print(\"U=\", U)\n",
    "\n",
    "# exact value of u^T f(A) u:\n",
    "I_ex = u.dot(np.linalg.inv(Pei_matrix)@u)\n",
    "#I_ex = u.dot((A)@u)\n",
    "print(\"exact value:\", I_ex)\n",
    "\n",
    "# check \n",
    "print(\"is the exact value between L and U:\", I_ex<U and L<I_ex)"
   ]
  },
  {
   "cell_type": "code",
   "execution_count": null,
   "metadata": {},
   "outputs": [],
   "source": [
    "#running time of algo 2\n",
    "\n",
    "start=time.time()\n",
    "E,L,U=algorithm_2(A,m,p) #for some m,p to tune \n",
    "execution_algo_2=time.time()-start "
   ]
  },
  {
   "cell_type": "code",
   "execution_count": 4,
   "metadata": {},
   "outputs": [
    {
     "name": "stdout",
     "output_type": "stream",
     "text": [
      "execution time 0.0012359619140625\n"
     ]
    }
   ],
   "source": [
    "#running time using built in numpy functions\n",
    "A=heat_flow_matrix\n",
    "start=time.time()\n",
    "Tr_A_inv=np.trace(np.linalg.inv(A))\n",
    "execution_built_in=time.time()-start \n",
    "print('execution time', execution_built_in)"
   ]
  },
  {
   "cell_type": "code",
   "execution_count": 6,
   "metadata": {},
   "outputs": [
    {
     "name": "stdout",
     "output_type": "stream",
     "text": [
      "execution time 0.03495073318481445\n"
     ]
    }
   ],
   "source": [
    "#solving n linear equations\n",
    "\n",
    "#(Armelle: in my opinion, when they say compute trace(inv(A)) using n linear equations, they mean computing \n",
    "#e_i.T inv(A) e_i for i in {1,...,n} )\n",
    "\n",
    "start=time.time()\n",
    "n=A.shape[0]\n",
    "\n",
    "trace=0\n",
    "for i in range(n):\n",
    "    e=np.zeros(n)\n",
    "    e[i]=1\n",
    "    trace+=e.T@np.linalg.inv(A)@e\n",
    "execution_linear_equations=time.time()-start \n",
    "\n",
    "print('execution time', execution_linear_equations)"
   ]
  },
  {
   "cell_type": "code",
   "execution_count": null,
   "metadata": {},
   "outputs": [],
   "source": [
    "#using algorithm 1\n",
    "\n",
    "n=A.shape[0]\n",
    "start=time.time()\n",
    "trace=0\n",
    "for i in range (n):\n",
    "    trace+= #output of algo 1 (I guess here also parameter values to tune)\n",
    "execution_algo_1=time.time()-start "
   ]
  }
 ],
 "metadata": {
  "kernelspec": {
   "display_name": "Python 3 (ipykernel)",
   "language": "python",
   "name": "python3"
  },
  "language_info": {
   "codemirror_mode": {
    "name": "ipython",
    "version": 3
   },
   "file_extension": ".py",
   "mimetype": "text/x-python",
   "name": "python",
   "nbconvert_exporter": "python",
   "pygments_lexer": "ipython3",
   "version": "3.9.7"
  }
 },
 "nbformat": 4,
 "nbformat_minor": 2
}
