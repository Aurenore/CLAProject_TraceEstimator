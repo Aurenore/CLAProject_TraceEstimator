{
 "cells": [
  {
   "cell_type": "markdown",
   "metadata": {},
   "source": [
    "# Trace Estimator  \n",
    "https://doi.org/10.1016/0377-0427(96)00018-0 \n",
    "## b) Algorithm 1 with Gauss-Radau quadrature"
   ]
  },
  {
   "cell_type": "code",
   "execution_count": 1,
   "metadata": {},
   "outputs": [],
   "source": [
    "import numpy as np \n",
    "import matplotlib.pyplot as plt\n",
    "#for part e)\n",
    "from matrices import * \n",
    "import time \n",
    "from scipy.linalg import block_diag\n",
    "from helpers import *"
   ]
  },
  {
   "cell_type": "code",
   "execution_count": 2,
   "metadata": {},
   "outputs": [
    {
     "name": "stdout",
     "output_type": "stream",
     "text": [
      "n= 144\n",
      "bounds [U,L]= [65.25109683 65.25078188]\n",
      "exact value: 65.2509696756944\n",
      "L<I_ex: True\n",
      "U>I_ex: True\n",
      "L<U = True\n"
     ]
    }
   ],
   "source": [
    "#the Poisson matrix\n",
    "k=12\n",
    "A= Poisson_function(k=k)\n",
    "n=k**2\n",
    "print(\"n=\",n)\n",
    "u = np.zeros(n)\n",
    "u[4] = 1\n",
    "u = np.random.randn(n)\n",
    "def f(x):\n",
    "    return 1/x\n",
    "    \n",
    "tol = 1e-5\n",
    "L = algorithm_1(A=A, u=u, function=f, maxit=200, epsilon=tol)\n",
    "\n",
    "print(\"bounds [U,L]=\", L)\n",
    "\n",
    "# exact value of u^T f(A) u:\n",
    "I_ex = u.dot(np.linalg.inv(A).dot(u))\n",
    "#I_ex = u.dot((A)@u)\n",
    "print(\"exact value:\", I_ex)\n",
    "\n",
    "# check \n",
    "print(\"L<I_ex:\", L[1]<I_ex )\n",
    "print(\"U>I_ex:\", L[0]>I_ex )\n",
    "print(\"L<U =\", L[1]<L[0] )"
   ]
  },
  {
   "cell_type": "code",
   "execution_count": 3,
   "metadata": {},
   "outputs": [
    {
     "name": "stdout",
     "output_type": "stream",
     "text": [
      "a= 0.0001\n",
      "b= 125.0\n",
      "bounds [U,L]= [0.1984 0.1984]\n",
      "exact value: 0.19840000000000016\n",
      "L<I_ex: True\n",
      "U>I_ex: False\n",
      "L<U = False\n"
     ]
    }
   ],
   "source": [
    "#the Pei matrix\n",
    "n=120\n",
    "A=Pei_function(alpha=5, n=n)\n",
    "def f(x):\n",
    "    return 1/x\n",
    "#notice that in python Z=1/A outputs Z[i,j]=1/A[i,j] which isn't what we want but! With the way our algorithm is define\n",
    "#and the way it makes computations it doesn't matter\n",
    "\n",
    "\n",
    "u = np.zeros(n)\n",
    "u[1] = 1\n",
    "#u = np.random.randn(n)\n",
    "tol = 1e-3\n",
    "L = algorithm_1(A=A, u=u, function=f, maxit=200, epsilon=tol)\n",
    "\n",
    "print(\"bounds [U,L]=\", L)\n",
    "\n",
    "# exact value of u^T f(A) u:\n",
    "I_ex = u.dot(np.linalg.inv(A).dot(u))\n",
    "#I_ex = u.dot((A)@u)\n",
    "print(\"exact value:\", I_ex)\n",
    "\n",
    "# check \n",
    "print(\"L<I_ex:\", L[1]<I_ex )\n",
    "print(\"U>I_ex:\", L[0]>I_ex )\n",
    "print(\"L<U =\", L[1]<L[0] )"
   ]
  },
  {
   "cell_type": "code",
   "execution_count": 4,
   "metadata": {},
   "outputs": [
    {
     "name": "stdout",
     "output_type": "stream",
     "text": [
      "a= 0.0001\n",
      "b= 4.0\n",
      "bounds [L, U]= [1.33333333 1.33333333]\n",
      "exact value: 1.333333333333333\n",
      "L<I_ex: False\n",
      "U>I_ex: True\n",
      "L<U = False\n"
     ]
    }
   ],
   "source": [
    "n = 5\n",
    "def tridiag(a, b, c, k1=-1, k2=0, k3=1):\n",
    "    return np.diag(a, k1) + np.diag(b, k2) + np.diag(c, k3)\n",
    "\n",
    "vec1 = -1*np.ones(n-1)\n",
    "vec2 = 2*np.ones(n)\n",
    "vec3 = -1*np.ones(n-1)\n",
    "A = tridiag(vec1, vec2, vec3)\n",
    "\n",
    "u = np.zeros(n)\n",
    "u[1] = 1\n",
    "# u = np.random.randn(n)\n",
    "tol = 1e-2\n",
    "L = algorithm_1(A=A, u=u, function=f, maxit=200, epsilon=tol)\n",
    "\n",
    "print(\"bounds [L, U]=\", L)\n",
    "\n",
    "# exact value of u^T f(A) u:\n",
    "I_ex = u.dot(np.linalg.inv(A).dot(u))\n",
    "#I_ex = u.dot((A)@u)\n",
    "print(\"exact value:\", I_ex)\n",
    "\n",
    "# check \n",
    "print(\"L<I_ex:\", L[1]<I_ex )\n",
    "print(\"U>I_ex:\", L[0]>I_ex )\n",
    "print(\"L<U =\", L[1]<L[0] )"
   ]
  },
  {
   "cell_type": "markdown",
   "metadata": {},
   "source": [
    "## d) Algorithm 2 "
   ]
  },
  {
   "cell_type": "code",
   "execution_count": 2,
   "metadata": {},
   "outputs": [
    {
     "name": "stdout",
     "output_type": "stream",
     "text": [
      "n= 144\n",
      "bounds [U,L]= (74.06462047283121, 54.332567550191555, 64.19859401151137)\n",
      "exact value of trace of the inverse: 65.60090633777952 found estimated value: 64.19859401151137 difference in two norm 1.4023123262681452\n",
      "L<I_ex: True\n",
      "U>I_ex: True\n",
      "L<U = True\n"
     ]
    }
   ],
   "source": [
    "#the Poisson matrix\n",
    "k=12\n",
    "A= Poisson_function(k=k)\n",
    "n=k**2\n",
    "print(\"n=\",n)\n",
    "def f(x):\n",
    "    return 1/x\n",
    "tol = 1e-5\n",
    "L = algorithm_2(A=A, m=50, p=0.9, function=f, epsilon=tol)\n",
    "\n",
    "print(\"bounds [U,L]=\", L)\n",
    "\n",
    "I_ex=np.trace(np.linalg.inv(A))\n",
    "\n",
    "print(\"exact value of trace of the inverse:\", I_ex, 'found estimated value:', L[2], 'difference in two norm', np.linalg.norm(I_ex-L[2]))\n",
    "\n",
    "# check \n",
    "print(\"L<I_ex:\", L[1]<I_ex )\n",
    "print(\"U>I_ex:\", L[0]>I_ex )\n",
    "print(\"L<U =\", L[1]<L[0] )"
   ]
  },
  {
   "cell_type": "code",
   "execution_count": 3,
   "metadata": {},
   "outputs": [
    {
     "name": "stdout",
     "output_type": "stream",
     "text": [
      "bounds [U,L]= (26.19928262891829, 21.478157371081732, 23.838720000000013)\n",
      "exact value of trace of the inverse: 23.808 found estimated value: 23.838720000000013 difference in two norm 0.03072000000001296\n",
      "L<I_ex: True\n",
      "U>I_ex: True\n",
      "L<U = True\n"
     ]
    }
   ],
   "source": [
    "#the Pei matrix\n",
    "n=120\n",
    "A=Pei_function(alpha=5, n=n)\n",
    "\n",
    "def f(x):\n",
    "    return 1/x\n",
    "tol = 1e-5\n",
    "L = algorithm_2(A=A, m=50, p=0.9, function=f, epsilon=tol)\n",
    "\n",
    "print(\"bounds [U,L]=\", L)\n",
    "\n",
    "I_ex=np.trace(np.linalg.inv(A))\n",
    "\n",
    "print(\"exact value of trace of the inverse:\", I_ex, 'found estimated value:', L[2], 'difference in two norm', np.linalg.norm(I_ex-L[2]))\n",
    "\n",
    "# check \n",
    "print(\"L<I_ex:\", L[1]<I_ex )\n",
    "print(\"U>I_ex:\", L[0]>I_ex )\n",
    "print(\"L<U =\", L[1]<L[0] )"
   ]
  },
  {
   "cell_type": "markdown",
   "metadata": {},
   "source": [
    "## e) Numerical experiments"
   ]
  },
  {
   "cell_type": "code",
   "execution_count": null,
   "metadata": {},
   "outputs": [],
   "source": [
    "def f(x):\n",
    "    return 1/x\n",
    "\n",
    "tol = 1e-5"
   ]
  },
  {
   "cell_type": "markdown",
   "metadata": {},
   "source": [
    "### Example 1: the heat flow matrix"
   ]
  },
  {
   "cell_type": "code",
   "execution_count": 18,
   "metadata": {},
   "outputs": [
    {
     "data": {
      "text/plain": [
       "array([[ 1.8, -0.2,  0. , ...,  0. ,  0. ,  0. ],\n",
       "       [-0.2,  1.8, -0.2, ...,  0. ,  0. ,  0. ],\n",
       "       [ 0. , -0.2,  1.8, ...,  0. ,  0. ,  0. ],\n",
       "       ...,\n",
       "       [ 0. ,  0. ,  0. , ...,  1.8, -0.2,  0. ],\n",
       "       [ 0. ,  0. ,  0. , ..., -0.2,  1.8, -0.2],\n",
       "       [ 0. ,  0. ,  0. , ...,  0. , -0.2,  1.8]])"
      ]
     },
     "execution_count": 18,
     "metadata": {},
     "output_type": "execute_result"
    }
   ],
   "source": [
    "N=10 #in the paper they use n=900 but as we didn't save the matrix in sparse format we have a memory over run\n",
    "      #I first did it with n=100 but the computation time was too long \n",
    "nu=0.2 \n",
    "heat_flow_matrix=heat_flow_function(nu,N)\n",
    "n=heat_flow_matrix.shape[0]\n",
    "heat_flow_running_time=np.zeros(4)\n",
    "heat_flow_trace_value=np.zeros(4)\n",
    "heat_flow_matrix"
   ]
  },
  {
   "cell_type": "code",
   "execution_count": 19,
   "metadata": {},
   "outputs": [],
   "source": [
    "#running time of algo 2\n",
    "\n",
    "start=time.time()\n",
    "L=algorithm_2(heat_flow_matrix,m=int(n/2),p=0.5, function=f, epsilon=tol) #for some m,p to tune \n",
    "execution_algo_2=time.time()-start \n",
    "\n",
    "heat_flow_running_time[0]=execution_algo_2\n",
    "heat_flow_trace_value[0]=L[2]"
   ]
  },
  {
   "cell_type": "code",
   "execution_count": 20,
   "metadata": {},
   "outputs": [],
   "source": [
    "#running time using built in numpy functions\n",
    "start=time.time()\n",
    "Tr_A_inv=np.trace(np.linalg.inv(heat_flow_matrix))\n",
    "execution_built_in=time.time()-start \n",
    "heat_flow_running_time[1]=execution_built_in\n",
    "heat_flow_trace_value[1]=Tr_A_inv"
   ]
  },
  {
   "cell_type": "code",
   "execution_count": 21,
   "metadata": {},
   "outputs": [],
   "source": [
    "#running time using n linear systems\n",
    "\n",
    "start=time.time()\n",
    "\n",
    "Tr_A_inv=0\n",
    "\n",
    "for i in range (n):\n",
    "    e=np.zeros(n)\n",
    "    e[i]=1\n",
    "    Tr_A_inv+=e.T@np.linalg.solve(heat_flow_matrix,e)\n",
    "\n",
    "execution_linear=time.time()-start\n",
    "heat_flow_running_time[2]=execution_linear\n",
    "heat_flow_trace_value[2]=Tr_A_inv\n",
    "    "
   ]
  },
  {
   "cell_type": "code",
   "execution_count": 22,
   "metadata": {},
   "outputs": [],
   "source": [
    "#using algorithm 1\n",
    "start=time.time()\n",
    "\n",
    "Tr_A_inv=0\n",
    "\n",
    "for i in range (n):\n",
    "    e=np.zeros(n)\n",
    "    e[i]=1\n",
    "    Tr_A_inv+=algorithm_1(heat_flow_matrix,e,function=f, maxit=50, epsilon=1e-05)\n",
    "\n",
    "execution_algo_1=time.time()-start\n",
    "heat_flow_running_time[3]=execution_algo_1\n",
    "heat_flow_trace_value[3]=(Tr_A_inv[0]+Tr_A_inv[1])/2"
   ]
  },
  {
   "cell_type": "code",
   "execution_count": 26,
   "metadata": {},
   "outputs": [
    {
     "data": {
      "text/plain": [
       "Text(0.5, 1.0, 'Running time differences')"
      ]
     },
     "execution_count": 26,
     "metadata": {},
     "output_type": "execute_result"
    },
    {
     "data": {
      "image/png": "[encoded data removed]",
      "text/plain": [
       "<Figure size 640x480 with 1 Axes>"
      ]
     },
     "metadata": {},
     "output_type": "display_data"
    }
   ],
   "source": [
    "plt.bar(['algo_2', 'built_in_numpy', 'linear systems', 'algorithm_1'], heat_flow_running_time)\n",
    "plt.yscale('log')\n",
    "plt.title('Running time differences')"
   ]
  },
  {
   "cell_type": "code",
   "execution_count": 27,
   "metadata": {},
   "outputs": [
    {
     "data": {
      "text/plain": [
       "Text(0.5, 1.0, 'values computed')"
      ]
     },
     "execution_count": 27,
     "metadata": {},
     "output_type": "execute_result"
    },
    {
     "data": {
      "image/png": "[encoded data removed]",
      "text/plain": [
       "<Figure size 640x480 with 1 Axes>"
      ]
     },
     "metadata": {},
     "output_type": "display_data"
    }
   ],
   "source": [
    "plt.bar(['algo_2', 'built_in_numpy', 'linear systems', 'algorithm_1'], heat_flow_trace_value)\n",
    "plt.yscale('log')\n",
    "plt.title('values computed')"
   ]
  },
  {
   "cell_type": "markdown",
   "metadata": {},
   "source": [
    "### example 2: the VFH matrix"
   ]
  },
  {
   "cell_type": "code",
   "execution_count": 47,
   "metadata": {},
   "outputs": [],
   "source": [
    "VFH_matrix=-VFH_function(2) #issue!! For n=1,2 we need to do -VFH to have positive definite and for n>2 we need to find \n",
    "#another criterion than the eigenvalues as its eigenvalues are complex :( \n",
    "\n",
    "n=VFH_matrix.shape[0]\n",
    "VFH_matrix_running_time=np.zeros(4)\n",
    "VFH_matrix_trace_value=np.zeros(4)"
   ]
  },
  {
   "cell_type": "code",
   "execution_count": 48,
   "metadata": {},
   "outputs": [],
   "source": [
    "#running time of algo 2\n",
    "\n",
    "start=time.time()\n",
    "L=algorithm_2(VFH_matrix,m=int(n/2),p=0.5, function=f, epsilon=tol) #for some m,p to tune \n",
    "execution_algo_2=time.time()-start \n",
    "\n",
    "VFH_matrix_running_time[0]=execution_algo_2\n",
    "VFH_matrix_trace_value[0]=L[2]"
   ]
  },
  {
   "cell_type": "code",
   "execution_count": 49,
   "metadata": {},
   "outputs": [],
   "source": [
    "#running time using built in numpy functions\n",
    "start=time.time()\n",
    "Tr_A_inv=np.trace(np.linalg.inv(VFH_matrix))\n",
    "execution_built_in=time.time()-start \n",
    "VFH_matrix_running_time[1]=execution_built_in\n",
    "VFH_matrix_trace_value[1]=Tr_A_inv"
   ]
  },
  {
   "cell_type": "code",
   "execution_count": 50,
   "metadata": {},
   "outputs": [],
   "source": [
    "#running time using n linear systems\n",
    "\n",
    "start=time.time()\n",
    "\n",
    "Tr_A_inv=0\n",
    "\n",
    "for i in range (n):\n",
    "    e=np.zeros(n)\n",
    "    e[i]=1\n",
    "    Tr_A_inv+=e.T@np.linalg.solve(VFH_matrix,e)\n",
    "\n",
    "execution_linear=time.time()-start\n",
    "VFH_matrix_running_time[2]=execution_linear\n",
    "VFH_matrix_trace_value[2]=Tr_A_inv\n",
    "    "
   ]
  },
  {
   "cell_type": "code",
   "execution_count": 51,
   "metadata": {},
   "outputs": [],
   "source": [
    "#using algorithm 1\n",
    "start=time.time()\n",
    "\n",
    "Tr_A_inv=0\n",
    "\n",
    "for i in range (n):\n",
    "    e=np.zeros(n)\n",
    "    e[i]=1\n",
    "    Tr_A_inv+=algorithm_1(VFH_matrix,e,function=f, maxit=50, epsilon=1e-05)\n",
    "\n",
    "execution_algo_1=time.time()-start\n",
    "VFH_matrix_running_time[3]=execution_algo_1\n",
    "VFH_matrix_trace_value[3]=(Tr_A_inv[0]+Tr_A_inv[1])/2"
   ]
  },
  {
   "cell_type": "code",
   "execution_count": 52,
   "metadata": {},
   "outputs": [
    {
     "data": {
      "text/plain": [
       "Text(0.5, 1.0, 'Running time differences')"
      ]
     },
     "execution_count": 52,
     "metadata": {},
     "output_type": "execute_result"
    },
    {
     "data": {
      "image/png": "[encoded data removed]",
      "text/plain": [
       "<Figure size 640x480 with 1 Axes>"
      ]
     },
     "metadata": {},
     "output_type": "display_data"
    }
   ],
   "source": [
    "plt.bar(['algo_2', 'built_in_numpy', 'linear systems', 'algorithm_1'], VFH_matrix_running_time)\n",
    "plt.yscale('log')\n",
    "plt.title('Running time differences')"
   ]
  },
  {
   "cell_type": "code",
   "execution_count": 53,
   "metadata": {},
   "outputs": [
    {
     "data": {
      "text/plain": [
       "Text(0.5, 1.0, 'values computed')"
      ]
     },
     "execution_count": 53,
     "metadata": {},
     "output_type": "execute_result"
    },
    {
     "data": {
      "image/png": "[encoded data removed]",
      "text/plain": [
       "<Figure size 640x480 with 1 Axes>"
      ]
     },
     "metadata": {},
     "output_type": "display_data"
    }
   ],
   "source": [
    "plt.bar(['algo_2', 'built_in_numpy', 'linear systems', 'algorithm_1'], VFH_matrix_trace_value)\n",
    "plt.yscale('log')\n",
    "plt.title('values computed')"
   ]
  },
  {
   "cell_type": "markdown",
   "metadata": {},
   "source": [
    "### Example 3: The poisson matrix"
   ]
  },
  {
   "cell_type": "code",
   "execution_count": 54,
   "metadata": {},
   "outputs": [],
   "source": [
    "Poisson_matrix=Poisson_function(10) #issue!! For n=1,2 we need to do -VFH to have positive definite and for n>2 we need to find \n",
    "#another criterion than the eigenvalues as its eigenvalues are complex :( \n",
    "\n",
    "n=Poisson_matrix.shape[0]\n",
    "Poisson_matrix_running_time=np.zeros(4)\n",
    "Poisson_matrix_trace_value=np.zeros(4)"
   ]
  },
  {
   "cell_type": "code",
   "execution_count": 55,
   "metadata": {},
   "outputs": [],
   "source": [
    "#running time of algo 2\n",
    "\n",
    "start=time.time()\n",
    "L=algorithm_2(Poisson_matrix,m=int(n/2),p=0.5, function=f, epsilon=tol) #for some m,p to tune \n",
    "execution_algo_2=time.time()-start \n",
    "\n",
    "Poisson_matrix_running_time[0]=execution_algo_2\n",
    "Poisson_matrix_trace_value[0]=L[2]"
   ]
  },
  {
   "cell_type": "code",
   "execution_count": 56,
   "metadata": {},
   "outputs": [],
   "source": [
    "#running time using built in numpy functions\n",
    "start=time.time()\n",
    "Tr_A_inv=np.trace(np.linalg.inv(VFH_matrix))\n",
    "execution_built_in=time.time()-start \n",
    "Poisson_matrix_running_time[1]=execution_built_in\n",
    "Poisson_matrix_trace_value[1]=Tr_A_inv"
   ]
  },
  {
   "cell_type": "code",
   "execution_count": 57,
   "metadata": {},
   "outputs": [],
   "source": [
    "#running time using n linear systems\n",
    "\n",
    "start=time.time()\n",
    "\n",
    "Tr_A_inv=0\n",
    "\n",
    "for i in range (n):\n",
    "    e=np.zeros(n)\n",
    "    e[i]=1\n",
    "    Tr_A_inv+=e.T@np.linalg.solve(Poisson_matrix,e)\n",
    "\n",
    "execution_linear=time.time()-start\n",
    "Poisson_matrix_running_time[2]=execution_linear\n",
    "Poisson_matrix_trace_value[2]=Tr_A_inv\n",
    "    "
   ]
  },
  {
   "cell_type": "code",
   "execution_count": 58,
   "metadata": {},
   "outputs": [],
   "source": [
    "#using algorithm 1\n",
    "start=time.time()\n",
    "\n",
    "Tr_A_inv=0\n",
    "\n",
    "for i in range (n):\n",
    "    e=np.zeros(n)\n",
    "    e[i]=1\n",
    "    Tr_A_inv+=algorithm_1(Poisson_matrix,e,function=f, maxit=50, epsilon=1e-05)\n",
    "\n",
    "execution_algo_1=time.time()-start\n",
    "Poisson_matrix_running_time[3]=execution_algo_1\n",
    "Poisson_matrix_trace_value[3]=(Tr_A_inv[0]+Tr_A_inv[1])/2"
   ]
  },
  {
   "cell_type": "code",
   "execution_count": 59,
   "metadata": {},
   "outputs": [
    {
     "data": {
      "text/plain": [
       "Text(0.5, 1.0, 'Running time differences')"
      ]
     },
     "execution_count": 59,
     "metadata": {},
     "output_type": "execute_result"
    },
    {
     "data": {
      "image/png": "[encoded data removed]",
      "text/plain": [
       "<Figure size 640x480 with 1 Axes>"
      ]
     },
     "metadata": {},
     "output_type": "display_data"
    }
   ],
   "source": [
    "plt.bar(['algo_2', 'built_in_numpy', 'linear systems', 'algorithm_1'], Poisson_matrix_running_time)\n",
    "plt.yscale('log')\n",
    "plt.title('Running time differences')"
   ]
  },
  {
   "cell_type": "code",
   "execution_count": 60,
   "metadata": {},
   "outputs": [
    {
     "data": {
      "text/plain": [
       "Text(0.5, 1.0, 'values computed')"
      ]
     },
     "execution_count": 60,
     "metadata": {},
     "output_type": "execute_result"
    },
    {
     "data": {
      "image/png": "[encoded data removed]",
      "text/plain": [
       "<Figure size 640x480 with 1 Axes>"
      ]
     },
     "metadata": {},
     "output_type": "display_data"
    }
   ],
   "source": [
    "plt.bar(['algo_2', 'built_in_numpy', 'linear systems', 'algorithm_1'], Poisson_matrix_trace_value)\n",
    "plt.yscale('log')\n",
    "plt.title('values computed')"
   ]
  },
  {
   "cell_type": "code",
   "execution_count": null,
   "metadata": {},
   "outputs": [],
   "source": []
  },
  {
   "cell_type": "code",
   "execution_count": null,
   "metadata": {},
   "outputs": [],
   "source": []
  },
  {
   "cell_type": "code",
   "execution_count": 17,
   "metadata": {},
   "outputs": [
    {
     "name": "stdout",
     "output_type": "stream",
     "text": [
      "a = 0.0001\n",
      "b = 6.0\n",
      "Tolerance 1e-13 was reached at iteration 2\n",
      "L= 0.16153600220772452\n",
      "U= 0.16153600220772452\n",
      "exact value: 0.19887453815178047\n",
      "is the exact value between L and U: False\n"
     ]
    }
   ],
   "source": [
    "#the Pei matrix\n",
    "alpha=2\n",
    "n=4\n",
    "Pei_matrix=Pei_function(alpha, n)\n",
    "\n",
    "u = np.random.rand(n)\n",
    "U, L = algorithm_1(A=Pei_matrix, u=u, function=f, maxit=200, epsilon=tol)\n",
    "print(\"L=\", L)\n",
    "print(\"U=\", U)\n",
    "\n",
    "# exact value of u^T f(A) u:\n",
    "I_ex = u.dot(np.linalg.inv(Pei_matrix)@u)\n",
    "#I_ex = u.dot((A)@u)\n",
    "print(\"exact value:\", I_ex)\n",
    "\n",
    "# check \n",
    "print(\"is the exact value between L and U:\", I_ex<U and L<I_ex)"
   ]
  },
  {
   "cell_type": "code",
   "execution_count": null,
   "metadata": {},
   "outputs": [],
   "source": [
    "#running time of algo 2\n",
    "\n",
    "start=time.time()\n",
    "E,L,U=algorithm_2(A,m,p) #for some m,p to tune \n",
    "execution_algo_2=time.time()-start "
   ]
  },
  {
   "cell_type": "code",
   "execution_count": 4,
   "metadata": {},
   "outputs": [
    {
     "name": "stdout",
     "output_type": "stream",
     "text": [
      "execution time 0.0012359619140625\n"
     ]
    }
   ],
   "source": [
    "#running time using built in numpy functions\n",
    "A=heat_flow_matrix\n",
    "start=time.time()\n",
    "Tr_A_inv=np.trace(np.linalg.inv(A))\n",
    "execution_built_in=time.time()-start \n",
    "print('execution time', execution_built_in)"
   ]
  },
  {
   "cell_type": "code",
   "execution_count": 6,
   "metadata": {},
   "outputs": [
    {
     "name": "stdout",
     "output_type": "stream",
     "text": [
      "execution time 0.03495073318481445\n"
     ]
    }
   ],
   "source": [
    "#solving n linear equations\n",
    "\n",
    "#(Armelle: in my opinion, when they say compute trace(inv(A)) using n linear equations, they mean computing \n",
    "#e_i.T inv(A) e_i for i in {1,...,n} )\n",
    "\n",
    "start=time.time()\n",
    "n=A.shape[0]\n",
    "\n",
    "trace=0\n",
    "for i in range(n):\n",
    "    e=np.zeros(n)\n",
    "    e[i]=1\n",
    "    trace+=e.T@np.linalg.inv(A)@e\n",
    "execution_linear_equations=time.time()-start \n",
    "\n",
    "print('execution time', execution_linear_equations)"
   ]
  },
  {
   "cell_type": "code",
   "execution_count": null,
   "metadata": {},
   "outputs": [],
   "source": [
    "#using algorithm 1\n",
    "\n",
    "n=A.shape[0]\n",
    "start=time.time()\n",
    "trace=0\n",
    "for i in range (n):\n",
    "    trace+= #output of algo 1 (I guess here also parameter values to tune)\n",
    "execution_algo_1=time.time()-start "
   ]
  }
 ],
 "metadata": {
  "kernelspec": {
   "display_name": "Python 3 (ipykernel)",
   "language": "python",
   "name": "python3"
  },
  "language_info": {
   "codemirror_mode": {
    "name": "ipython",
    "version": 3
   },
   "file_extension": ".py",
   "mimetype": "text/x-python",
   "name": "python",
   "nbconvert_exporter": "python",
   "pygments_lexer": "ipython3",
   "version": "3.8.13"
  }
 },
 "nbformat": 4,
 "nbformat_minor": 2
}
