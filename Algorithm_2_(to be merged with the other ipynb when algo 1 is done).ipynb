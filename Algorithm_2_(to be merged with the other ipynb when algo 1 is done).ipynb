{
 "cells": [
  {
   "cell_type": "code",
   "execution_count": 1,
   "id": "ad7be80f",
   "metadata": {},
   "outputs": [],
   "source": [
    "import numpy as np \n",
    "import matplotlib.pyplot as plt\n",
    "#for part e)\n",
    "from matrices import * \n",
    "import time \n",
    "from scipy.linalg import block_diag\n",
    "from helpers import *\n",
    "from warnings import warn"
   ]
  },
  {
   "cell_type": "code",
   "execution_count": 27,
   "id": "9e17732f",
   "metadata": {},
   "outputs": [],
   "source": [
    "def algorithm_2(A, m, p, function, epsilon):\n",
    "    '''\n",
    "    A: a symmetric positive definite matrix of size n times n for some n  \n",
    "    m: the chosen number of samples\n",
    "    p: the chosen probabibilty for the confidence interval, the trace of function(A) will be in the bound with proba\n",
    "       AT LEAST p \n",
    "    \n",
    "    return: I: an unbiased estimator of the quantity tr(f(A))\n",
    "            (L_p, U_p): the bounds of the confidence interval of tr(f(A)) with proba p \n",
    "    '''\n",
    "    \n",
    "    if np.any(A!=A.T):\n",
    "        raise ValueError('The matrix isnt symmetric')\n",
    "        \n",
    "    if np.any(np.linalg.eigvals(A) <= 0):\n",
    "        raise ValueError('The matrix isnt positive definite')\n",
    "        \n",
    "    if p<=0 or p>=1:\n",
    "        raise ValueError('we dont have 0<p<1')\n",
    "        \n",
    "    if m>A.shape[0]/2: #arbitrary choice\n",
    "        print('Notice that for the use of the Montecarlo method to be justified, its better to have m<=A.shape[0]/2')\n",
    "        \n",
    "    n=A.shape[0]\n",
    "    L=np.zeros(m) \n",
    "    U=np.zeros(m) \n",
    "    L_min=10^8 #dummy value to start with for L_min\n",
    "    U_max=-10^8 #dummy value to start with, for U_max\n",
    "    \n",
    "    \n",
    "    for j in range(m):\n",
    "        z = np.random.uniform(0,1,n)\n",
    "        z[z<0.5]=-1\n",
    "        z[z>=0.5]=1\n",
    "        #apply algorithm 1 to obtain a lower bound L_j and an upper bound U_j and set \n",
    "        \n",
    "        #algorithm 1 will output z.T@function(A)@z and we know from the paper that this is an unbiased estimator of \n",
    "        #tr(function(A))\n",
    "        L[j], U[j]=algorithm_1(A=A, u=z, function=function, maxit=200, epsilon=epsilon)\n",
    "        L_j, U_j=L[j],U[j]\n",
    "        \n",
    "        #computing the mean as we have an unbiased estimator\n",
    "        I=np.ones(m).T@(L+U)/(2*(j+1)) #need to add +1 because of indexization in python. The first vector multiplication\n",
    "                                       #sums all the non-zero elements of L+U\n",
    "        L_min=np.minimum(L_min,L_j)\n",
    "        U_max=np.maximum(U_max,U_j)\n",
    "        eta_2=(-0.5*(j+1)*(U_max-L_min)**2)*(np.log(1-p)/2)\n",
    "        \n",
    "        #computing the mean as we have an unbiased estimator\n",
    "        L_p_j= np.ones(m).T@L/(j+1)-np.sqrt(eta_2)/(j+1)\n",
    "        U_p_j= np.ones(m).T@U/(j+1)+np.sqrt(eta_2)/(j+1)\n",
    "        \n",
    "    return U_p_j, L_p_j, I    "
   ]
  },
  {
   "cell_type": "code",
   "execution_count": 36,
   "id": "9821812b",
   "metadata": {},
   "outputs": [],
   "source": [
    "#the trace of the inverse is supposed to be in the interval for a given probability p but we have that our computations\n",
    "#are too strong, we have that the estimation is too often correct"
   ]
  },
  {
   "cell_type": "code",
   "execution_count": 37,
   "id": "545cedfe",
   "metadata": {},
   "outputs": [
    {
     "name": "stdout",
     "output_type": "stream",
     "text": [
      "n= 144\n",
      "bounds [U,L]= (75.76184594849461, 54.29398826136412, 65.02791710492937)\n",
      "exact value of trace of the inverse: 65.60090633777952 found estimated value: 65.02791710492937 difference in two norm 0.5729892328501478\n",
      "L<I_ex: True\n",
      "U>I_ex: True\n",
      "L<U = True\n"
     ]
    }
   ],
   "source": [
    "#the Poisson matrix\n",
    "k=12\n",
    "A= Poisson_function(k=k)\n",
    "n=k**2\n",
    "print(\"n=\",n)\n",
    "def f(x):\n",
    "    return 1/x\n",
    "tol = 1e-5\n",
    "L = algorithm_2(A=A, m=50, p=0.9, function=f, epsilon=tol)\n",
    "\n",
    "print(\"bounds [U,L]=\", L)\n",
    "\n",
    "I_ex=np.trace(np.linalg.inv(A))\n",
    "\n",
    "print(\"exact value of trace of the inverse:\", I_ex, 'found estimated value:', L[2], 'difference in two norm', np.linalg.norm(I_ex-L[2]))\n",
    "\n",
    "# check \n",
    "print(\"L<I_ex:\", L[1]<I_ex )\n",
    "print(\"U>I_ex:\", L[0]>I_ex )\n",
    "print(\"L<U =\", L[1]<L[0] )"
   ]
  },
  {
   "cell_type": "code",
   "execution_count": 49,
   "id": "146aa197",
   "metadata": {},
   "outputs": [
    {
     "name": "stdout",
     "output_type": "stream",
     "text": [
      "bounds [U,L]= (26.14667462891829, 21.42554937108172, 23.786112000000003)\n",
      "exact value of trace of the inverse: 23.808 found estimated value: 23.786112000000003 difference in two norm 0.02188799999999702\n",
      "L<I_ex: True\n",
      "U>I_ex: True\n",
      "L<U = True\n"
     ]
    }
   ],
   "source": [
    "#the Poisson matrix\n",
    "n=120\n",
    "A=Pei_function(alpha=5, n=n)\n",
    "\n",
    "def f(x):\n",
    "    return 1/x\n",
    "tol = 1e-5\n",
    "L = algorithm_2(A=A, m=50, p=0.9, function=f, epsilon=tol)\n",
    "\n",
    "print(\"bounds [U,L]=\", L)\n",
    "\n",
    "I_ex=np.trace(np.linalg.inv(A))\n",
    "\n",
    "print(\"exact value of trace of the inverse:\", I_ex, 'found estimated value:', L[2], 'difference in two norm', np.linalg.norm(I_ex-L[2]))\n",
    "\n",
    "# check \n",
    "print(\"L<I_ex:\", L[1]<I_ex )\n",
    "print(\"U>I_ex:\", L[0]>I_ex )\n",
    "print(\"L<U =\", L[1]<L[0] )"
   ]
  },
  {
   "cell_type": "code",
   "execution_count": null,
   "id": "10a5f574",
   "metadata": {},
   "outputs": [],
   "source": []
  }
 ],
 "metadata": {
  "kernelspec": {
   "display_name": "Python 3 (ipykernel)",
   "language": "python",
   "name": "python3"
  },
  "language_info": {
   "codemirror_mode": {
    "name": "ipython",
    "version": 3
   },
   "file_extension": ".py",
   "mimetype": "text/x-python",
   "name": "python",
   "nbconvert_exporter": "python",
   "pygments_lexer": "ipython3",
   "version": "3.8.13"
  }
 },
 "nbformat": 4,
 "nbformat_minor": 5
}
