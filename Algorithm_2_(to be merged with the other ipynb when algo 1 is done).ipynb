{
 "cells": [
  {
   "cell_type": "code",
   "execution_count": 1,
   "id": "ad7be80f",
   "metadata": {},
   "outputs": [],
   "source": [
    "import numpy as np"
   ]
  },
  {
   "cell_type": "code",
   "execution_count": 35,
   "id": "9e17732f",
   "metadata": {},
   "outputs": [],
   "source": [
    "def algorithm_2(A, m, p):\n",
    "    '''\n",
    "    A: a symmetric positive definite matrix of size n times n for some n  \n",
    "    m: the chosen number of samples\n",
    "    p: the chosen probabibilty for the confidence interval\n",
    "    \n",
    "    return: estimator: an unbiased estimator of the quantity tr(f(A))\n",
    "            (L_p, U_p): the bounds of the confidence interval of tr(f(A)) with proba p \n",
    "    '''\n",
    "    \n",
    "    if np.any(A!=A.T):\n",
    "        raise ValueError('The matrix isnt symmetric')\n",
    "        \n",
    "    if np.any(np.linalg.eigvals(A) <= 0):\n",
    "        raise ValueError('The matrix isnt positive definite')\n",
    "        \n",
    "    if p<=0 or p>=1:\n",
    "        raise ValueError('we dont have 0<p<1')\n",
    "        \n",
    "    n=A.shape[0]\n",
    "    L=np.ones(m)*10^8 #dummy value to start with, L isn't suposed to be bigger than 10^8 ever\n",
    "    U=np.ones(m)*-10^8 #dummy value to start with, U isn't suppose to be smaller than -10^8 ever\n",
    "    \n",
    "    for j in range(m):\n",
    "        z = np.random.uniform(0,1,n)\n",
    "        z[z<0.5]=-1\n",
    "        z[z>=0.5]=1\n",
    "        #apply algorithm 1 to obtain a lower bound L_j and an upper bound U_j and set \n",
    "        #L[j]=L_j and U[j]=U_j\n",
    "        \n",
    "        I=(L_j+U_j).T@np.ones(j)/(2*j)\n",
    "        L=np.minimum(L,L_j)\n",
    "        U=np.maximum(U,U_j)\n",
    "        eta_2=-0.5*j*(U-L)^2*(np.log(1-p)/2)\n",
    "        temp=np.concatenate([np.ones(j),np.zeros(n-j)])\n",
    "        L_p_j= temp@L/j-np.sqrt(eta_2)/j\n",
    "        U_p_j= temp@U/j+np.sqrt(eta_2)/j\n",
    "        \n",
    "    return I, L_p_j, U_p_j     "
   ]
  },
  {
   "cell_type": "code",
   "execution_count": null,
   "id": "545cedfe",
   "metadata": {},
   "outputs": [],
   "source": []
  }
 ],
 "metadata": {
  "kernelspec": {
   "display_name": "Python 3 (ipykernel)",
   "language": "python",
   "name": "python3"
  },
  "language_info": {
   "codemirror_mode": {
    "name": "ipython",
    "version": 3
   },
   "file_extension": ".py",
   "mimetype": "text/x-python",
   "name": "python",
   "nbconvert_exporter": "python",
   "pygments_lexer": "ipython3",
   "version": "3.8.13"
  }
 },
 "nbformat": 4,
 "nbformat_minor": 5
}
