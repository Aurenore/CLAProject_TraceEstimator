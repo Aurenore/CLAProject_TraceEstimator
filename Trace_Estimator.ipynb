{
 "cells": [
  {
   "cell_type": "markdown",
   "metadata": {},
   "source": [
    "# Trace Estimator  \n",
    "https://doi.org/10.1016/0377-0427(96)00018-0 \n",
    "## b) Algorithm 1 with Gauss-Radau quadrature"
   ]
  },
  {
   "cell_type": "code",
   "execution_count": 1,
   "metadata": {},
   "outputs": [
    {
     "data": {
      "text/plain": [
       "array([[ 2., -1.,  0.,  0.,  0.],\n",
       "       [-1.,  2., -1.,  0.,  0.],\n",
       "       [ 0., -1.,  2., -1.,  0.],\n",
       "       [ 0.,  0., -1.,  2., -1.],\n",
       "       [ 0.,  0.,  0., -1.,  2.]])"
      ]
     },
     "execution_count": 1,
     "metadata": {},
     "output_type": "execute_result"
    }
   ],
   "source": [
    "import numpy as np \n",
    "from math import fabs\n",
    "import matplotlib.pyplot as plt\n",
    "from warnings import warn\n",
    "\n",
    "n_A = 5\n",
    "def tridiag(a, b, c, k1=-1, k2=0, k3=1):\n",
    "    return np.diag(a, k1) + np.diag(b, k2) + np.diag(c, k3)\n",
    "\n",
    "vec1 = -1*np.ones(n_A-1)\n",
    "vec2 = 2*np.ones(n_A)\n",
    "vec3 = -1*np.ones(n_A-1)\n",
    "A = tridiag(vec1, vec2, vec3)\n",
    "A\n",
    "\n"
   ]
  },
  {
   "cell_type": "code",
   "execution_count": 43,
   "metadata": {},
   "outputs": [],
   "source": [
    "def T_tilda(T, gamma, a):\n",
    "    \"\"\"\n",
    "    Implements the correction mentioned in Remark 3. \n",
    "    INPUT:\n",
    "    - T: T_j\n",
    "    - gamma: gamma_j\n",
    "    - a: scalar, a or b\n",
    "    OUTPUT:\n",
    "    - T_tilda_j: matrix as defined page 76 of Bai et al., for the Gauss-Radau case.\n",
    "    \"\"\"\n",
    "    e_j = np.zeros(T.shape[0])\n",
    "    e_j[-1] = 1\n",
    "    delta = np.linalg.solve(T-a*np.eye(T.shape[0]), gamma*gamma*e_j) # tridiagonal system, could be written without np.linalg.solve maybe\n",
    "    phi = a + delta[-1]\n",
    "    temp_left = np.vstack((T, gamma*e_j))\n",
    "    temp_right = np.expand_dims(np.append(gamma*e_j, phi),1)\n",
    "    return np.hstack((temp_left, temp_right))\n",
    "\n",
    "def Gerschgorin(A):\n",
    "    \"\"\"Simple way to find a and b in R such that the eigenvalues of A are in [a,b].\n",
    "    INPUT:\n",
    "    - square matrix A\n",
    "    OUTPUT:\n",
    "    - array: [a,b]\n",
    "    \"\"\"\n",
    "    for i in range(A.shape[0]):\n",
    "        r = 0\n",
    "        pivot = A[i,i]\n",
    "        for j in range(A.shape[1]):\n",
    "            if i!=j:\n",
    "                r += fabs(A[i][j])\n",
    "\n",
    "        if i==0:\n",
    "            a = pivot-r\n",
    "            b = pivot+r\n",
    "        else:\n",
    "            if (pivot-r)<a:\n",
    "                a = pivot-r\n",
    "            if (pivot+r)>b:\n",
    "                b = pivot+r\n",
    "\n",
    "    return np.array([a, b])    \n",
    "\n",
    "\n",
    "def check_new_eig(a, eigs, tol=1e-3):\n",
    "    \"\"\"\n",
    "    Checks if a is in array eigs.\n",
    "    INPUT: \n",
    "    - a: number\n",
    "    - eigs: sorted eigenvalues\n",
    "    - tol: tolerance \n",
    "    OUTPUT:\n",
    "    - bool: true if a is in eigs, else false.\n",
    "    \"\"\"\n",
    "    if len(eigs)==1:\n",
    "        if np.abs(a-eigs[0])<tol:\n",
    "            return True\n",
    "        else:\n",
    "            print(\"IN CHECK_NEW_EIG: a=\", a)\n",
    "            print(\"IN CHECK_NEW_EIG: eigs[0]=\", eigs[0])\n",
    "            return False\n",
    "    else:    \n",
    "        n = int(len(eigs)/2)\n",
    "        if a>=eigs[n]:\n",
    "            return check_new_eig(a, eigs[n:])\n",
    "        else:\n",
    "            return check_new_eig(a, eigs[:n])  \n",
    "        \n",
    "def check_ortho(X, tol=1e-8):\n",
    "    \"\"\"\n",
    "    Checks if the columns of X are orthogonal to one another.\n",
    "    INPUT:\n",
    "    - X: 2d matrix, its columns are the ones we want to check the orthogonality of\n",
    "    OUTPUT:\n",
    "    - bool: \n",
    "        - True: the vectors are orthogonal\n",
    "        - False: they are not.\n",
    "    \"\"\"\n",
    "    prod = X @ X.T\n",
    "    for i in range(prod.shape[0]):\n",
    "        for j in range(prod.shape[1]):\n",
    "            if i==j:\n",
    "                if np.abs(prod[i,j]-1)>tol:\n",
    "                    return False\n",
    "            else:\n",
    "                if np.abs(prod[i,j])>tol:\n",
    "                    return False\n",
    "    return True\n"
   ]
  },
  {
   "cell_type": "code",
   "execution_count": 44,
   "metadata": {},
   "outputs": [
    {
     "data": {
      "text/plain": [
       "<matplotlib.legend.Legend at 0x195742fafa0>"
      ]
     },
     "execution_count": 44,
     "metadata": {},
     "output_type": "execute_result"
    },
    {
     "data": {
      "image/png": "[encoded data removed]",
      "text/plain": [
       "<Figure size 640x480 with 1 Axes>"
      ]
     },
     "metadata": {},
     "output_type": "display_data"
    }
   ],
   "source": [
    "# Test Gerschogorin algo: [a,b] should contain all eigenvalues of A.\n",
    "a, b = Gerschgorin(A)\n",
    "eig = np.linalg.eigvals(A)\n",
    "plt.plot([a,b], np.zeros(2), 'ro')\n",
    "plt.plot(eig, np.zeros(len(eig)), 'bx')\n",
    "plt.legend(['a,b', 'Eigenvalues'])"
   ]
  },
  {
   "cell_type": "code",
   "execution_count": 45,
   "metadata": {},
   "outputs": [
    {
     "name": "stdout",
     "output_type": "stream",
     "text": [
      "A=\n",
      " [[ 2. -1.  0.  0.  0.]\n",
      " [-1.  2. -1.  0.  0.]\n",
      " [ 0. -1.  2. -1.  0.]\n",
      " [ 0.  0. -1.  2. -1.]\n",
      " [ 0.  0.  0. -1.  2.]]\n",
      "A_tilda=\n",
      " [[ 2.         -1.          0.          0.          0.          0.        ]\n",
      " [-1.          2.         -1.          0.          0.          0.        ]\n",
      " [ 0.         -1.          2.         -1.          0.          0.        ]\n",
      " [ 0.          0.         -1.          2.         -1.          0.        ]\n",
      " [ 0.          0.          0.         -1.          2.          3.        ]\n",
      " [ 0.          0.          0.          0.          3.          7.51479186]]\n",
      "Is 'a' in the eigenvalues of T_tilda_j: True\n",
      "True\n"
     ]
    }
   ],
   "source": [
    "# test T_tilda function: a should become an eigenvalue of T_tilda_j.\n",
    "a = 1e-3\n",
    "gamma = 3\n",
    "T_tilda_j = T_tilda(A, gamma, a)\n",
    "print(\"A=\\n\", A)\n",
    "print(\"A_tilda=\\n\", T_tilda_j)\n",
    "\n",
    "\n",
    "eigs = np.linalg.eigvals(T_tilda_j)\n",
    "in_eigs = False\n",
    "for i in range(len(eigs)):\n",
    "    if(np.abs(a-eigs[i])<1e-7):\n",
    "        in_eigs=True\n",
    "print(\"Is 'a' in the eigenvalues of T_tilda_j:\", in_eigs) \n",
    "print(check_new_eig(a, np.sort(eigs)))"
   ]
  },
  {
   "cell_type": "code",
   "execution_count": 78,
   "metadata": {},
   "outputs": [],
   "source": [
    "def algorithm_1(A, u, function, maxit=50, epsilon=1e-5):\n",
    "    # try with another A, check that x_j are orthogonal, check that Gauss works\n",
    "    '''\n",
    "    Implements algorithm 1 from Bai et al. It computes a lower/upper bound of the quantity u^T f(A) u by using the Gauss-Radau rules\n",
    "    INPUT:\n",
    "    - A: a symmetric positive definite matrix of size n times n for some n, with eigenvalues in [a,b]\n",
    "    - u: vector of size n \n",
    "    - f: smooth function in the interval [a,b]\n",
    "    - maxit: maximum number of iteration\n",
    "    - epsilon: tolerance between two iterations\n",
    "    \n",
    "    OUTPUT:\n",
    "    - [U,L]: Upper and Lower bound of the quantity u^T f(A) u by using the Gauss-Radau rule.\n",
    "    '''\n",
    "    # Remark 1:\n",
    "    interval = Gerschgorin(A)\n",
    "    if interval[0]<=0:\n",
    "        interval[0] = 1e-4\n",
    "    print(\"a =\", interval[0])\n",
    "    print(\"b =\", interval[1])\n",
    "\n",
    "    # set the first variables\n",
    "    x_j2 = 0\n",
    "    x_j1 = u/np.linalg.norm(u)    \n",
    "    gamma_j = 0\n",
    "    I_j = np.zeros(2)\n",
    "    I_j1 = np.zeros(2)\n",
    "    X = [x_j1]\n",
    "\n",
    "    for j in range(maxit):\n",
    "        alpha_j = x_j1.T @ A @ x_j1\n",
    "        r_j = A @ x_j1 - alpha_j*x_j1 - gamma_j*x_j2\n",
    "        gamma_j = np.linalg.norm(r_j)\n",
    "\n",
    "        # build T_j:\n",
    "        if j==0:\n",
    "            T_j = np.array([alpha_j])\n",
    "        else:\n",
    "            # print(\"T_j shape:\", T_j.shape)\n",
    "            # horizontal array [0, ..., 0, gamma_j\n",
    "            temp_h = np.expand_dims(np.zeros(T_j.shape[0]),1)\n",
    "            temp_h[-1] = gamma_j\n",
    "            # print(\"temp h shape:\",temp_h.shape)\n",
    "            # vertical array [0, ..., 0, gamma_j, alpha_j].T\n",
    "            temp_v = np.expand_dims(np.zeros(T_j.shape[0] + 1),1)\n",
    "            temp_v[-1] = alpha_j\n",
    "            temp_v[-2] = gamma_j\n",
    "            # print(\"temp v shape:\", temp_v.shape)\n",
    "            # new T_j:\n",
    "            T_j = np.hstack((np.vstack((T_j, temp_h.T)), temp_v))\n",
    "            print(\"T_j:\", T_j)\n",
    "        \n",
    "        # for Gauss Radau, a or b have to be zeros of the polynomial, i.e. must be eigenvalues of T_tilda_j:\n",
    "        for i in range(2): # for lower and upper bounds\n",
    "            T_tilda_j = T_tilda(T_j, gamma_j, interval[i])\n",
    "            # compute eigenvalues of T_tilda_j: HERE LOOK AT REMARK 6: IT COULD BE SIMPLIFIED!!\n",
    "            theta_k, eig_vec = np.linalg.eig(T_tilda_j)\n",
    "            w_k_square = eig_vec[0, :]*eig_vec[0,:]\n",
    "            # I_j[i] = np.sum(function(theta_k)*w_k_square)\n",
    "            I_j[i] = np.linalg.inv(T_tilda_j)[0,0]\n",
    "\n",
    "            if not check_new_eig(interval[i], np.sort(theta_k)):\n",
    "                warn(\"The matrix T_tilda_j does not have the right eigenvalues.\")\n",
    "                print(\"interval[\", i, \"]=\", interval[i])\n",
    "                print(np.sort(theta_k))\n",
    "\n",
    "        print(\"I_j:\", I_j)\n",
    "        \n",
    "        if (j>0) & (np.abs(I_j[0] - I_j1[0]) <= epsilon*np.abs(I_j[0])) & (np.abs(I_j[1] - I_j1[1]) <= epsilon*np.abs(I_j[1])):\n",
    "            print(\"should be all true:\")\n",
    "            print(j>0)\n",
    "            print(np.abs(I_j[0] - I_j1[0]) <= epsilon*np.abs(I_j[0]))\n",
    "            print(np.abs(I_j[1] - I_j1[1]) <= epsilon*np.abs(I_j[1]))\n",
    "            print(\"Tolerance\", epsilon, \"was reached at iteration\", j+1)\n",
    "            print(\"np.abs(I_j[0]-I_j1[0])=\", np.abs(I_j[0] - I_j1[0]))\n",
    "            print(\"tol*Interval[0]=\", epsilon*I_j[0])\n",
    "            print(\"tol*Interval[1]=\", epsilon*I_j[1])\n",
    "            break\n",
    "\n",
    "        x_j2 = x_j1\n",
    "        x_j1 = r_j/gamma_j\n",
    "        I_j1 = I_j\n",
    "\n",
    "        X.append(x_j1)\n",
    "    print(\"check that vectors x_j are orthogonal:\", check_ortho(np.array(X)))\n",
    "    if not check_ortho(np.array(X)):\n",
    "        warn(\"The algorithm does not build an orthonormal basis.\")\n",
    "    \n",
    "    return u.dot(u)*I_j     \n",
    "         \n",
    "def algorithm_1_Gauss(A, u, function, maxit=50, epsilon=1e-5):\n",
    "    # try with another A, check that x_j are orthogonal, check that Gauss works\n",
    "    '''\n",
    "    Implements algorithm 1 from Bai et al. It computes a lower/upper bound of the quantity u^T f(A) u by using the Gauss-Radau rules\n",
    "    INPUT:\n",
    "    - A: a symmetric positive definite matrix of size n times n for some n, with eigenvalues in [a,b]\n",
    "    - u: vector of size n \n",
    "    - f: smooth function in the interval [a,b]\n",
    "    - maxit: maximum number of iteration\n",
    "    - epsilon: tolerance between two iterations\n",
    "    \n",
    "    OUTPUT:\n",
    "    - [U,L]: Upper and Lower bound of the quantity u^T f(A) u by using the Gauss-Radau rule.\n",
    "    '''\n",
    "    # Remark 1:\n",
    "    interval = Gerschgorin(A)\n",
    "    if interval[0]<=0:\n",
    "        interval[0] = 1e-4\n",
    "    print(\"Inteval [a,b] given by the Gerschgorin algor.:\")\n",
    "    print(\"a =\", interval[0])\n",
    "    print(\"b =\", interval[1])\n",
    "\n",
    "    # set the first variables\n",
    "    x_j2 = 0\n",
    "    x_j1 = u/np.linalg.norm(u)    \n",
    "    gamma_j = 0\n",
    "    I_j = 0\n",
    "    I_j1 = 0\n",
    "    X = [x_j1]\n",
    "    \n",
    "    for j in range(maxit):\n",
    "        alpha_j = x_j1.T @ A @ x_j1\n",
    "        r_j = A @ x_j1 - alpha_j*x_j1 - gamma_j*x_j2\n",
    "        gamma_j = np.linalg.norm(r_j)\n",
    "\n",
    "        # build T_j:\n",
    "        if j==0:\n",
    "            T_j = np.array([alpha_j])\n",
    "        else:\n",
    "            # print(\"T_j shape:\", T_j.shape)\n",
    "            # horizontal array [0, ..., 0, gamma_j\n",
    "            temp_h = np.expand_dims(np.zeros(T_j.shape[0]),1)\n",
    "            temp_h[-1] = gamma_j\n",
    "            # print(\"temp h shape:\",temp_h.shape)\n",
    "            # vertical array [0, ..., 0, gamma_j, alpha_j].T\n",
    "            temp_v = np.expand_dims(np.zeros(T_j.shape[0] + 1),1)\n",
    "            temp_v[-1] = alpha_j\n",
    "            temp_v[-2] = gamma_j\n",
    "            # print(\"temp v shape:\", temp_v.shape)\n",
    "            # new T_j:\n",
    "            T_j = np.hstack((np.vstack((T_j, temp_h.T)), temp_v))\n",
    "        \n",
    "            # compute eigenvalues of T_tilda_j: HERE LOOK AT REMARK 6: IT COULD BE SIMPLIFIED!!\n",
    "            theta_k, eig_vec = np.linalg.eig(T_j)\n",
    "            w_k_square = eig_vec[0, :]*eig_vec[0,:]\n",
    "            I_j = np.sum(function(theta_k)*w_k_square)\n",
    "\n",
    "\n",
    "        if j>0 and np.abs(I_j - I_j1) <= epsilon*np.abs(I_j):\n",
    "            print(\"Tolerance\", epsilon, \"was reached at iteration\", j+1)\n",
    "            break\n",
    "\n",
    "        x_j2 = x_j1\n",
    "        x_j1 = r_j/gamma_j\n",
    "        I_j1 = I_j\n",
    "        X.append(x_j1)\n",
    "        \n",
    "    print(\"check that vectors x_j are orthogonal:\", check_ortho(np.array(X)))\n",
    "    if not check_ortho(np.array(X)):\n",
    "        warn(\"The algorithm does not build an orthonormal basis.\")\n",
    "    \n",
    "    return u.dot(u)*I_j  "
   ]
  },
  {
   "cell_type": "code",
   "execution_count": 79,
   "metadata": {},
   "outputs": [
    {
     "name": "stdout",
     "output_type": "stream",
     "text": [
      "a = 0.0001\n",
      "b = 6.0\n",
      "I_j: [2.50031250e+03 4.16666667e-01]\n",
      "T_j: [[3.0000000e+00 8.8817842e-16]\n",
      " [8.8817842e-16 5.0000000e+00]]\n",
      "I_j: [0.33333333 0.33333333]\n",
      "should be all true:\n",
      "True\n",
      "True\n",
      "True\n",
      "Tolerance 1e-07 was reached at iteration 2\n",
      "np.abs(I_j[0]-I_j1[])= 0.0\n",
      "tol*Interval[0]= 3.333333333333333e-08\n",
      "tol*Interval[1]= 3.333333333333333e-08\n",
      "check that vectors x_j are orthogonal: True\n",
      "lower bound L= [0.33333333 0.33333333]\n",
      "exact value: 0.4166666666666666\n",
      "is the exact value below L: [ True  True]\n"
     ]
    }
   ],
   "source": [
    "#the Pei matrix\n",
    "alpha=2\n",
    "n=4\n",
    "Pei_matrix=alpha*np.eye(n)+np.ones((4,4))\n",
    "def f(x):\n",
    "    return 1/x\n",
    "u = np.zeros(n)\n",
    "u[0] = 1\n",
    "tol = 1e-7\n",
    "L = algorithm_1(A=Pei_matrix, u=u, function=f, maxit=200, epsilon=tol)\n",
    "\n",
    "print(\"lower bound L=\", L)\n",
    "\n",
    "# exact value of u^T f(A) u:\n",
    "I_ex = u.dot(np.linalg.inv(Pei_matrix).dot(u))\n",
    "#I_ex = u.dot((A)@u)\n",
    "print(\"exact value:\", I_ex)\n",
    "\n",
    "# check \n",
    "print(\"is the exact value below L:\", L<I_ex )"
   ]
  },
  {
   "cell_type": "code",
   "execution_count": 80,
   "metadata": {},
   "outputs": [
    {
     "name": "stdout",
     "output_type": "stream",
     "text": [
      "Inteval [a,b] given by the Gerschgorin algor.:\n",
      "a = 0.0001\n",
      "b = 4.0\n",
      "Tolerance 1e-07 was reached at iteration 5\n",
      "check that vectors x_j are orthogonal: True\n",
      "lower bound L= 2.6997279355268167\n",
      "exact value: 2.4251175988315605\n",
      "is the exact value bellow L: False\n"
     ]
    }
   ],
   "source": [
    "u_A = np.random.randn(n_A)\n",
    "L = algorithm_1_Gauss(A=A, u=u_A, function=f, maxit=200, epsilon=tol)\n",
    "\n",
    "print(\"lower bound L=\", L)\n",
    "\n",
    "# exact value of u^T f(A) u:\n",
    "I_ex = u_A.dot(np.linalg.inv(A).dot(u_A))\n",
    "#I_ex = u.dot((A)@u)\n",
    "print(\"exact value:\", I_ex)\n",
    "\n",
    "# check \n",
    "print(\"is the exact value bellow L:\", L<I_ex )"
   ]
  },
  {
   "cell_type": "code",
   "execution_count": 81,
   "metadata": {},
   "outputs": [
    {
     "name": "stdout",
     "output_type": "stream",
     "text": [
      "a = 0.0001\n",
      "b = 4.0\n",
      "I_j: [6.27955425e+03 2.25373842e+00]\n",
      "T_j: [[0.60601772 0.61726071]\n",
      " [0.61726071 2.28409227]]\n",
      "I_j: [1126.27192467    2.31766745]\n",
      "should be all true:\n",
      "True\n",
      "True\n",
      "True\n",
      "Tolerance 1e-18 was reached at iteration 2\n",
      "np.abs(I_j[0]-I_j1[])= 0.0\n",
      "tol*Interval[0]= 1.1262719246693463e-15\n",
      "tol*Interval[1]= 2.31766745239874e-18\n",
      "check that vectors x_j are orthogonal: True\n",
      "L= 3.5601289466160995\n",
      "U= 1730.046852332691\n",
      "exact value: 4.886704930317286\n",
      "is the exact value between L and U: True\n"
     ]
    }
   ],
   "source": [
    "tol = 1e-18\n",
    "maxit = 2\n",
    "u_A = np.random.rand(n_A)\n",
    "\n",
    "def f(x):\n",
    "    return 1/x\n",
    "\n",
    "def id(x):\n",
    "    return x\n",
    "\n",
    "U, L = algorithm_1(A=A, u=u_A, function=f, maxit=200, epsilon=tol)\n",
    "print(\"L=\", L)\n",
    "print(\"U=\", U)\n",
    "\n",
    "# exact value of u^T f(A) u:\n",
    "I_ex = u_A.dot(np.linalg.inv(A)@u_A)\n",
    "#I_ex = u.dot((A)@u)\n",
    "print(\"exact value:\", I_ex)\n",
    "\n",
    "# check \n",
    "print(\"is the exact value between L and U:\", I_ex<U and L<I_ex)"
   ]
  },
  {
   "cell_type": "markdown",
   "metadata": {},
   "source": [
    "### e) Numerical experiments (first draft)"
   ]
  },
  {
   "cell_type": "code",
   "execution_count": 6,
   "metadata": {},
   "outputs": [],
   "source": [
    "import time \n",
    "import numpy as np\n",
    "from scipy.linalg import block_diag"
   ]
  },
  {
   "cell_type": "code",
   "execution_count": 7,
   "metadata": {},
   "outputs": [],
   "source": [
    "#cell to be rewritten, temporary assignement to A\n",
    "A=np.eye(3,3) "
   ]
  },
  {
   "cell_type": "markdown",
   "metadata": {},
   "source": [
    "**The different matrices they experimented on in the paper:**"
   ]
  },
  {
   "cell_type": "code",
   "execution_count": 8,
   "metadata": {},
   "outputs": [],
   "source": [
    "#example 1: the heat flow matrix"
   ]
  },
  {
   "cell_type": "code",
   "execution_count": 7,
   "metadata": {},
   "outputs": [],
   "source": [
    "def heat_flow_function(nu, n):\n",
    "    '''\n",
    "    input:  nu: a scalar \n",
    "            n: a scalar\n",
    "    output: the heat flow matrix with dimension n**2 x n**2\n",
    "    '''\n",
    "    vec_nu=(-nu)*np.ones(n**2-n)\n",
    "    vec_a=np.ones(n-1)*(-nu)\n",
    "    vec_b=np.ones(n)*(1+4*nu)\n",
    "    D=tridiag(vec_a, vec_b, vec_a)\n",
    "    return block_diag(*([D] * n))+np.diag(vec_nu, n)+np.diag(vec_nu,-n)"
   ]
  },
  {
   "cell_type": "code",
   "execution_count": 8,
   "metadata": {},
   "outputs": [
    {
     "data": {
      "text/plain": [
       "array([[ 9., -2.,  0., -2.,  0.,  0.,  0.,  0.,  0.],\n",
       "       [-2.,  9., -2.,  0., -2.,  0.,  0.,  0.,  0.],\n",
       "       [ 0., -2.,  9.,  0.,  0., -2.,  0.,  0.,  0.],\n",
       "       [-2.,  0.,  0.,  9., -2.,  0., -2.,  0.,  0.],\n",
       "       [ 0., -2.,  0., -2.,  9., -2.,  0., -2.,  0.],\n",
       "       [ 0.,  0., -2.,  0., -2.,  9.,  0.,  0., -2.],\n",
       "       [ 0.,  0.,  0., -2.,  0.,  0.,  9., -2.,  0.],\n",
       "       [ 0.,  0.,  0.,  0., -2.,  0., -2.,  9., -2.],\n",
       "       [ 0.,  0.,  0.,  0.,  0., -2.,  0., -2.,  9.]])"
      ]
     },
     "execution_count": 8,
     "metadata": {},
     "output_type": "execute_result"
    }
   ],
   "source": [
    "n=2\n",
    "nu=3 #some random values for now, nu>0 implies heat_flow_matrix is positive definite which is something we want\n",
    "heat_flow_matrix=heat_flow_function(2,3)\n",
    "heat_flow_matrix"
   ]
  },
  {
   "cell_type": "code",
   "execution_count": 11,
   "metadata": {},
   "outputs": [],
   "source": [
    "#example 2: Vicsek fractal Hamiltonian (VFH) matrix)"
   ]
  },
  {
   "cell_type": "code",
   "execution_count": 12,
   "metadata": {},
   "outputs": [],
   "source": [
    "#example 3: the poisson matrix"
   ]
  },
  {
   "cell_type": "code",
   "execution_count": 13,
   "metadata": {},
   "outputs": [],
   "source": [
    "#the Wathen matrix\n",
    "\n"
   ]
  },
  {
   "cell_type": "code",
   "execution_count": 14,
   "metadata": {},
   "outputs": [],
   "source": [
    "#the Lehmer matrix\n",
    "\n",
    "#easy to implement with a for loop but not optimal, is there a better way? Couldn't find built in ways on internet"
   ]
  },
  {
   "cell_type": "code",
   "execution_count": 17,
   "metadata": {},
   "outputs": [
    {
     "name": "stdout",
     "output_type": "stream",
     "text": [
      "a = 0.0001\n",
      "b = 6.0\n",
      "Tolerance 1e-13 was reached at iteration 2\n",
      "L= 0.16153600220772452\n",
      "U= 0.16153600220772452\n",
      "exact value: 0.19887453815178047\n",
      "is the exact value between L and U: False\n"
     ]
    }
   ],
   "source": [
    "#the Pei matrix\n",
    "alpha=2\n",
    "n=4\n",
    "Pei_matrix=alpha*np.eye(n)+np.ones((4,4))\n",
    "\n",
    "u = np.random.rand(n)\n",
    "U, L = algorithm_1(A=Pei_matrix, u=u, function=f, maxit=200, epsilon=tol)\n",
    "print(\"L=\", L)\n",
    "print(\"U=\", U)\n",
    "\n",
    "# exact value of u^T f(A) u:\n",
    "I_ex = u.dot(np.linalg.inv(Pei_matrix)@u)\n",
    "#I_ex = u.dot((A)@u)\n",
    "print(\"exact value:\", I_ex)\n",
    "\n",
    "# check \n",
    "print(\"is the exact value between L and U:\", I_ex<U and L<I_ex)"
   ]
  },
  {
   "cell_type": "code",
   "execution_count": null,
   "metadata": {},
   "outputs": [],
   "source": [
    "#running time of algo 2\n",
    "\n",
    "start=time.time()\n",
    "E,L,U=algorithm_2(A,m,p) #for some m,p to tune \n",
    "execution_algo_2=time.time()-start "
   ]
  },
  {
   "cell_type": "code",
   "execution_count": null,
   "metadata": {},
   "outputs": [],
   "source": [
    "#running time using built in numpy functions\n",
    "\n",
    "start=time.time()\n",
    "Tr_A_inv=np.trace(np.linalg.inv(A))\n",
    "execution_built_in=time.time()-start "
   ]
  },
  {
   "cell_type": "code",
   "execution_count": null,
   "metadata": {},
   "outputs": [],
   "source": [
    "#solving n linear equations\n",
    "\n",
    "#(Armelle: in my opinion, when they say compute trace(inv(A)) using n linear equations, they mean computing \n",
    "#e_i.T inv(A) e_i for i in {1,...,n} )\n",
    "\n",
    "start=time.time()\n",
    "\n",
    "trace=0\n",
    "for i in range(n):\n",
    "    e=np.zeros(n)\n",
    "    e[i]=1\n",
    "    trace+=e.T@np.linalg.inv(A)@e\n",
    "execution_linear_equations=time.time()-start "
   ]
  },
  {
   "cell_type": "code",
   "execution_count": null,
   "metadata": {},
   "outputs": [],
   "source": [
    "#using algorithm 1\n",
    "\n",
    "n=A.shape[0]\n",
    "start=time.time()\n",
    "trace=0\n",
    "for i in range (n):\n",
    "    trace+= #output of algo 1 (I guess here also parameter values to tune)\n",
    "execution_algo_1=time.time()-start "
   ]
  }
 ],
 "metadata": {
  "kernelspec": {
   "display_name": "Python 3 (ipykernel)",
   "language": "python",
   "name": "python3"
  },
  "language_info": {
   "codemirror_mode": {
    "name": "ipython",
    "version": 3
   },
   "file_extension": ".py",
   "mimetype": "text/x-python",
   "name": "python",
   "nbconvert_exporter": "python",
   "pygments_lexer": "ipython3",
   "version": "3.8.13"
  }
 },
 "nbformat": 4,
 "nbformat_minor": 2
}
