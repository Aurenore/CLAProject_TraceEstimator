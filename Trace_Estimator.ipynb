{
 "cells": [
  {
   "cell_type": "markdown",
   "metadata": {},
   "source": [
    "# Trace Estimator  \n",
    "https://doi.org/10.1016/0377-0427(96)00018-0 \n",
    "## b) Algorithm 1 with Gauss-Radau quadrature"
   ]
  },
  {
   "cell_type": "code",
   "execution_count": 7,
   "metadata": {},
   "outputs": [
    {
     "data": {
      "text/plain": [
       "array([[ 2., -1.,  0.,  0.,  0.],\n",
       "       [-1.,  2., -1.,  0.,  0.],\n",
       "       [ 0., -1.,  2., -1.,  0.],\n",
       "       [ 0.,  0., -1.,  2., -1.],\n",
       "       [ 0.,  0.,  0., -1.,  2.]])"
      ]
     },
     "execution_count": 7,
     "metadata": {},
     "output_type": "execute_result"
    }
   ],
   "source": [
    "import numpy as np \n",
    "\n",
    "tol = 1e-3\n",
    "maxit = 50\n",
    "n = 5\n",
    "u = np.random.rand(n)\n",
    "\n",
    "def tridiag(a, b, c, k1=-1, k2=0, k3=1):\n",
    "    return np.diag(a, k1) + np.diag(b, k2) + np.diag(c, k3)\n",
    "\n",
    "a = -1*np.ones(n-1)\n",
    "b = 2*np.ones(n)\n",
    "c = -1*np.ones(n-1)\n",
    "A = tridiag(a, b, c)\n",
    "A"
   ]
  },
  {
   "cell_type": "code",
   "execution_count": 6,
   "metadata": {},
   "outputs": [],
   "source": [
    "x_j1 = u/np.linalg.norm(u)\n",
    "x_last = np.zeros(n)\n",
    "gamma = 0\n",
    "\n",
    "for j in range(maxit):\n",
    "    alpha_j = x_j1.T@A@x_j1\n",
    "    if j==0:\n",
    "        r_j = A@x_j1 - alpha_j*x_j1\n",
    "    else:\n",
    "        r_j = A@x_j1 - alpha_j*x_j1 - gamma*x_j2\n",
    "\n",
    "    gamma = np.linalg.norm(r_j)\n",
    "     \n",
    "         "
   ]
  },
  {
   "cell_type": "markdown",
   "metadata": {},
   "source": [
    "### e) Numerical experiments (first draft)"
   ]
  },
  {
   "cell_type": "code",
   "execution_count": null,
   "metadata": {},
   "outputs": [],
   "source": [
    "import time "
   ]
  },
  {
   "cell_type": "code",
   "execution_count": null,
   "metadata": {},
   "outputs": [],
   "source": [
    "#cell to be rewritten, temporary assignement to A\n",
    "A=np.eye(3,3) "
   ]
  },
  {
   "cell_type": "code",
   "execution_count": null,
   "metadata": {},
   "outputs": [],
   "source": [
    "#running time of algo 2\n",
    "\n",
    "start=time.time()\n",
    "E,L,U=algorithm_2(A,m,p) #for some m,p to tune \n",
    "execution_algo_2=time.time()-start "
   ]
  },
  {
   "cell_type": "code",
   "execution_count": null,
   "metadata": {},
   "outputs": [],
   "source": [
    "#running time using built in numpy functions\n",
    "\n",
    "start=time.time()\n",
    "Tr_A_inv=np.trace(np.linalg.inv(A))\n",
    "execution_built_in=time.time()-start "
   ]
  },
  {
   "cell_type": "code",
   "execution_count": null,
   "metadata": {},
   "outputs": [],
   "source": [
    "#solving n linear equations\n",
    "\n",
    "#(Armelle: in my opinion, when they say compute trace(inv(A)) using n linear equations, they mean computing \n",
    "#e_i.T inv(A) e_i for i in {1,...,n} )\n",
    "\n",
    "start=time.time()\n",
    "\n",
    "trace=0\n",
    "for i in range(n):\n",
    "    e=np.zeros(n)\n",
    "    e[i]=1\n",
    "    trace+=e.T@np.linalg.inv(A)@e\n",
    "execution_linear_equations=time.time()-start "
   ]
  },
  {
   "cell_type": "code",
   "execution_count": null,
   "metadata": {},
   "outputs": [],
   "source": [
    "#using algorithm 1\n",
    "\n",
    "n=A.shape[0]\n",
    "start=time.time()\n",
    "trace=0\n",
    "for i in range (n):\n",
    "    trace+= #output of algo 1 (I guess here also parameter values to tune)\n",
    "execution_algo_1=time.time()-start "
   ]
  }
 ],
 "metadata": {
  "kernelspec": {
   "display_name": "Python 3 (ipykernel)",
   "language": "python",
   "name": "python3"
  },
  "language_info": {
   "codemirror_mode": {
    "name": "ipython",
    "version": 3
   },
   "file_extension": ".py",
   "mimetype": "text/x-python",
   "name": "python",
   "nbconvert_exporter": "python",
   "pygments_lexer": "ipython3",
   "version": "3.8.13"
  }
 },
 "nbformat": 4,
 "nbformat_minor": 2
}
